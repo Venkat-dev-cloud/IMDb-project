{
 "cells": [
  {
   "cell_type": "markdown",
   "id": "returning-beginning",
   "metadata": {
    "papermill": {
     "duration": 0.067999,
     "end_time": "2021-06-14T20:49:09.330722",
     "exception": false,
     "start_time": "2021-06-14T20:49:09.262723",
     "status": "completed"
    },
    "tags": []
   },
   "source": [
    "# <font color = blue> IMDb Movie Analysis </font>\n",
    "\n",
    "We have the data for the 100 top-rated movies from the past decade along with various pieces of information about the movie, its actors, and the voters who have rated these movies online. In this analysis, we will try to find some interesting insights into these movies and their voters, using Python."
   ]
  },
  {
   "cell_type": "code",
   "execution_count": 1,
   "id": "chubby-medicine",
   "metadata": {
    "execution": {
     "iopub.execute_input": "2021-06-14T20:49:09.473887Z",
     "iopub.status.busy": "2021-06-14T20:49:09.473236Z",
     "iopub.status.idle": "2021-06-14T20:49:09.477701Z",
     "shell.execute_reply": "2021-06-14T20:49:09.477028Z",
     "shell.execute_reply.started": "2021-06-12T04:41:26.670025Z"
    },
    "papermill": {
     "duration": 0.082732,
     "end_time": "2021-06-14T20:49:09.477907",
     "exception": false,
     "start_time": "2021-06-14T20:49:09.395175",
     "status": "completed"
    },
    "tags": []
   },
   "outputs": [],
   "source": [
    "# Filtering out the warnings\n",
    "\n",
    "import warnings\n",
    "warnings.filterwarnings('ignore')"
   ]
  },
  {
   "cell_type": "code",
   "execution_count": 2,
   "id": "absolute-department",
   "metadata": {
    "execution": {
     "iopub.execute_input": "2021-06-14T20:49:09.614380Z",
     "iopub.status.busy": "2021-06-14T20:49:09.613508Z",
     "iopub.status.idle": "2021-06-14T20:49:10.572543Z",
     "shell.execute_reply": "2021-06-14T20:49:10.571491Z",
     "shell.execute_reply.started": "2021-06-12T04:41:26.675171Z"
    },
    "papermill": {
     "duration": 1.029004,
     "end_time": "2021-06-14T20:49:10.572762",
     "exception": false,
     "start_time": "2021-06-14T20:49:09.543758",
     "status": "completed"
    },
    "tags": []
   },
   "outputs": [],
   "source": [
    "# Importing the required libraries\n",
    "\n",
    "import numpy as np\n",
    "import pandas as pd\n",
    "import seaborn as sns\n",
    "import matplotlib.pyplot as plt"
   ]
  },
  {
   "cell_type": "markdown",
   "id": "lyric-singles",
   "metadata": {
    "papermill": {
     "duration": 0.064952,
     "end_time": "2021-06-14T20:49:10.705486",
     "exception": false,
     "start_time": "2021-06-14T20:49:10.640534",
     "status": "completed"
    },
    "tags": []
   },
   "source": [
    "##  Task 1: Reading the data"
   ]
  },
  {
   "cell_type": "markdown",
   "id": "ceramic-clear",
   "metadata": {
    "papermill": {
     "duration": 0.065145,
     "end_time": "2021-06-14T20:49:10.836028",
     "exception": false,
     "start_time": "2021-06-14T20:49:10.770883",
     "status": "completed"
    },
    "tags": []
   },
   "source": [
    "- ### Subtask 1.1: Read the Movies Data.\n",
    "\n",
    "Read the movies data file provided and store it in a dataframe `movies`."
   ]
  },
  {
   "cell_type": "code",
   "execution_count": 3,
   "id": "instructional-citation",
   "metadata": {
    "execution": {
     "iopub.execute_input": "2021-06-14T20:49:10.975338Z",
     "iopub.status.busy": "2021-06-14T20:49:10.974698Z",
     "iopub.status.idle": "2021-06-14T20:49:11.004241Z",
     "shell.execute_reply": "2021-06-14T20:49:11.002826Z",
     "shell.execute_reply.started": "2021-06-12T04:41:26.687928Z"
    },
    "papermill": {
     "duration": 0.101548,
     "end_time": "2021-06-14T20:49:11.004410",
     "exception": false,
     "start_time": "2021-06-14T20:49:10.902862",
     "status": "completed"
    },
    "tags": []
   },
   "outputs": [],
   "source": [
    "# Read the csv file using 'read_csv'. Please write your dataset location here.\n",
    "movies = pd.read_csv(\"../input/imdb-top-100-movies-in-the-past-decade/MovieAssignmentData.csv\")"
   ]
  },
  {
   "cell_type": "markdown",
   "id": "renewable-outside",
   "metadata": {
    "papermill": {
     "duration": 0.065216,
     "end_time": "2021-06-14T20:49:11.134379",
     "exception": false,
     "start_time": "2021-06-14T20:49:11.069163",
     "status": "completed"
    },
    "tags": []
   },
   "source": [
    "- ###  Subtask 1.2: Inspect the Dataframe\n",
    "\n",
    "Inspect the dataframe for dimensions, null-values, and summary of different numeric columns."
   ]
  },
  {
   "cell_type": "code",
   "execution_count": 4,
   "id": "historic-charger",
   "metadata": {
    "execution": {
     "iopub.execute_input": "2021-06-14T20:49:11.271390Z",
     "iopub.status.busy": "2021-06-14T20:49:11.270697Z",
     "iopub.status.idle": "2021-06-14T20:49:11.273932Z",
     "shell.execute_reply": "2021-06-14T20:49:11.274496Z",
     "shell.execute_reply.started": "2021-06-12T04:41:26.722621Z"
    },
    "papermill": {
     "duration": 0.075431,
     "end_time": "2021-06-14T20:49:11.274681",
     "exception": false,
     "start_time": "2021-06-14T20:49:11.199250",
     "status": "completed"
    },
    "tags": []
   },
   "outputs": [
    {
     "data": {
      "text/plain": [
       "(100, 62)"
      ]
     },
     "execution_count": 4,
     "metadata": {},
     "output_type": "execute_result"
    }
   ],
   "source": [
    "# Check the number of rows and columns in the dataframe\n",
    "movies.shape"
   ]
  },
  {
   "cell_type": "code",
   "execution_count": 5,
   "id": "suitable-liverpool",
   "metadata": {
    "execution": {
     "iopub.execute_input": "2021-06-14T20:49:11.407955Z",
     "iopub.status.busy": "2021-06-14T20:49:11.407307Z",
     "iopub.status.idle": "2021-06-14T20:49:11.444214Z",
     "shell.execute_reply": "2021-06-14T20:49:11.443479Z",
     "shell.execute_reply.started": "2021-06-12T04:41:26.732085Z"
    },
    "papermill": {
     "duration": 0.104669,
     "end_time": "2021-06-14T20:49:11.444383",
     "exception": false,
     "start_time": "2021-06-14T20:49:11.339714",
     "status": "completed"
    },
    "tags": []
   },
   "outputs": [
    {
     "name": "stdout",
     "output_type": "stream",
     "text": [
      "<class 'pandas.core.frame.DataFrame'>\n",
      "RangeIndex: 100 entries, 0 to 99\n",
      "Data columns (total 62 columns):\n",
      " #   Column                  Non-Null Count  Dtype  \n",
      "---  ------                  --------------  -----  \n",
      " 0   Title                   100 non-null    object \n",
      " 1   title_year              100 non-null    int64  \n",
      " 2   budget                  100 non-null    int64  \n",
      " 3   Gross                   100 non-null    int64  \n",
      " 4   actor_1_name            100 non-null    object \n",
      " 5   actor_2_name            100 non-null    object \n",
      " 6   actor_3_name            100 non-null    object \n",
      " 7   actor_1_facebook_likes  100 non-null    int64  \n",
      " 8   actor_2_facebook_likes  99 non-null     float64\n",
      " 9   actor_3_facebook_likes  98 non-null     float64\n",
      " 10  IMDb_rating             100 non-null    float64\n",
      " 11  genre_1                 100 non-null    object \n",
      " 12  genre_2                 97 non-null     object \n",
      " 13  genre_3                 74 non-null     object \n",
      " 14  MetaCritic              95 non-null     float64\n",
      " 15  Runtime                 100 non-null    int64  \n",
      " 16  CVotes10                100 non-null    int64  \n",
      " 17  CVotes09                100 non-null    int64  \n",
      " 18  CVotes08                100 non-null    int64  \n",
      " 19  CVotes07                100 non-null    int64  \n",
      " 20  CVotes06                100 non-null    int64  \n",
      " 21  CVotes05                100 non-null    int64  \n",
      " 22  CVotes04                100 non-null    int64  \n",
      " 23  CVotes03                100 non-null    int64  \n",
      " 24  CVotes02                100 non-null    int64  \n",
      " 25  CVotes01                100 non-null    int64  \n",
      " 26  CVotesMale              100 non-null    int64  \n",
      " 27  CVotesFemale            100 non-null    int64  \n",
      " 28  CVotesU18               100 non-null    int64  \n",
      " 29  CVotesU18M              100 non-null    int64  \n",
      " 30  CVotesU18F              100 non-null    int64  \n",
      " 31  CVotes1829              100 non-null    int64  \n",
      " 32  CVotes1829M             100 non-null    int64  \n",
      " 33  CVotes1829F             100 non-null    int64  \n",
      " 34  CVotes3044              100 non-null    int64  \n",
      " 35  CVotes3044M             100 non-null    int64  \n",
      " 36  CVotes3044F             100 non-null    int64  \n",
      " 37  CVotes45A               100 non-null    int64  \n",
      " 38  CVotes45AM              100 non-null    int64  \n",
      " 39  CVotes45AF              100 non-null    int64  \n",
      " 40  CVotes1000              100 non-null    int64  \n",
      " 41  CVotesUS                100 non-null    int64  \n",
      " 42  CVotesnUS               100 non-null    int64  \n",
      " 43  VotesM                  100 non-null    float64\n",
      " 44  VotesF                  100 non-null    float64\n",
      " 45  VotesU18                100 non-null    float64\n",
      " 46  VotesU18M               100 non-null    float64\n",
      " 47  VotesU18F               100 non-null    float64\n",
      " 48  Votes1829               100 non-null    float64\n",
      " 49  Votes1829M              100 non-null    float64\n",
      " 50  Votes1829F              100 non-null    float64\n",
      " 51  Votes3044               100 non-null    float64\n",
      " 52  Votes3044M              100 non-null    float64\n",
      " 53  Votes3044F              100 non-null    float64\n",
      " 54  Votes45A                100 non-null    float64\n",
      " 55  Votes45AM               100 non-null    float64\n",
      " 56  Votes45AF               100 non-null    float64\n",
      " 57  Votes1000               100 non-null    float64\n",
      " 58  VotesUS                 100 non-null    float64\n",
      " 59  VotesnUS                100 non-null    float64\n",
      " 60  content_rating          100 non-null    object \n",
      " 61  Country                 100 non-null    object \n",
      "dtypes: float64(21), int64(32), object(9)\n",
      "memory usage: 48.6+ KB\n"
     ]
    }
   ],
   "source": [
    "# Check the column-wise info of the dataframe\n",
    "movies.info()"
   ]
  },
  {
   "cell_type": "code",
   "execution_count": 6,
   "id": "senior-accreditation",
   "metadata": {
    "execution": {
     "iopub.execute_input": "2021-06-14T20:49:11.584593Z",
     "iopub.status.busy": "2021-06-14T20:49:11.583366Z",
     "iopub.status.idle": "2021-06-14T20:49:11.726713Z",
     "shell.execute_reply": "2021-06-14T20:49:11.727226Z",
     "shell.execute_reply.started": "2021-06-12T04:41:26.771474Z"
    },
    "papermill": {
     "duration": 0.2179,
     "end_time": "2021-06-14T20:49:11.727400",
     "exception": false,
     "start_time": "2021-06-14T20:49:11.509500",
     "status": "completed"
    },
    "tags": []
   },
   "outputs": [
    {
     "data": {
      "text/html": [
       "<div>\n",
       "<style scoped>\n",
       "    .dataframe tbody tr th:only-of-type {\n",
       "        vertical-align: middle;\n",
       "    }\n",
       "\n",
       "    .dataframe tbody tr th {\n",
       "        vertical-align: top;\n",
       "    }\n",
       "\n",
       "    .dataframe thead th {\n",
       "        text-align: right;\n",
       "    }\n",
       "</style>\n",
       "<table border=\"1\" class=\"dataframe\">\n",
       "  <thead>\n",
       "    <tr style=\"text-align: right;\">\n",
       "      <th></th>\n",
       "      <th>title_year</th>\n",
       "      <th>budget</th>\n",
       "      <th>Gross</th>\n",
       "      <th>actor_1_facebook_likes</th>\n",
       "      <th>actor_2_facebook_likes</th>\n",
       "      <th>actor_3_facebook_likes</th>\n",
       "      <th>IMDb_rating</th>\n",
       "      <th>MetaCritic</th>\n",
       "      <th>Runtime</th>\n",
       "      <th>CVotes10</th>\n",
       "      <th>...</th>\n",
       "      <th>Votes1829F</th>\n",
       "      <th>Votes3044</th>\n",
       "      <th>Votes3044M</th>\n",
       "      <th>Votes3044F</th>\n",
       "      <th>Votes45A</th>\n",
       "      <th>Votes45AM</th>\n",
       "      <th>Votes45AF</th>\n",
       "      <th>Votes1000</th>\n",
       "      <th>VotesUS</th>\n",
       "      <th>VotesnUS</th>\n",
       "    </tr>\n",
       "  </thead>\n",
       "  <tbody>\n",
       "    <tr>\n",
       "      <th>count</th>\n",
       "      <td>100.000000</td>\n",
       "      <td>1.000000e+02</td>\n",
       "      <td>1.000000e+02</td>\n",
       "      <td>100.000000</td>\n",
       "      <td>99.000000</td>\n",
       "      <td>98.000000</td>\n",
       "      <td>100.000000</td>\n",
       "      <td>95.000000</td>\n",
       "      <td>100.000000</td>\n",
       "      <td>100.000000</td>\n",
       "      <td>...</td>\n",
       "      <td>100.000000</td>\n",
       "      <td>100.000000</td>\n",
       "      <td>100.000000</td>\n",
       "      <td>100.000000</td>\n",
       "      <td>100.00000</td>\n",
       "      <td>100.000000</td>\n",
       "      <td>100.000000</td>\n",
       "      <td>100.000000</td>\n",
       "      <td>100.000000</td>\n",
       "      <td>100.000000</td>\n",
       "    </tr>\n",
       "    <tr>\n",
       "      <th>mean</th>\n",
       "      <td>2012.820000</td>\n",
       "      <td>7.838400e+07</td>\n",
       "      <td>1.468679e+08</td>\n",
       "      <td>13407.270000</td>\n",
       "      <td>7377.303030</td>\n",
       "      <td>3002.153061</td>\n",
       "      <td>7.883000</td>\n",
       "      <td>78.252632</td>\n",
       "      <td>126.420000</td>\n",
       "      <td>73212.160000</td>\n",
       "      <td>...</td>\n",
       "      <td>7.982000</td>\n",
       "      <td>7.732000</td>\n",
       "      <td>7.723000</td>\n",
       "      <td>7.780000</td>\n",
       "      <td>7.65100</td>\n",
       "      <td>7.624000</td>\n",
       "      <td>7.770000</td>\n",
       "      <td>7.274000</td>\n",
       "      <td>7.958000</td>\n",
       "      <td>7.793000</td>\n",
       "    </tr>\n",
       "    <tr>\n",
       "      <th>std</th>\n",
       "      <td>1.919491</td>\n",
       "      <td>7.445295e+07</td>\n",
       "      <td>1.454004e+08</td>\n",
       "      <td>10649.037862</td>\n",
       "      <td>13471.568216</td>\n",
       "      <td>6940.301133</td>\n",
       "      <td>0.247433</td>\n",
       "      <td>9.122066</td>\n",
       "      <td>19.050799</td>\n",
       "      <td>82669.594746</td>\n",
       "      <td>...</td>\n",
       "      <td>0.321417</td>\n",
       "      <td>0.251814</td>\n",
       "      <td>0.260479</td>\n",
       "      <td>0.282128</td>\n",
       "      <td>0.21485</td>\n",
       "      <td>0.213258</td>\n",
       "      <td>0.301344</td>\n",
       "      <td>0.361987</td>\n",
       "      <td>0.232327</td>\n",
       "      <td>0.264099</td>\n",
       "    </tr>\n",
       "    <tr>\n",
       "      <th>min</th>\n",
       "      <td>2010.000000</td>\n",
       "      <td>3.000000e+06</td>\n",
       "      <td>2.238380e+05</td>\n",
       "      <td>39.000000</td>\n",
       "      <td>12.000000</td>\n",
       "      <td>0.000000</td>\n",
       "      <td>7.500000</td>\n",
       "      <td>62.000000</td>\n",
       "      <td>91.000000</td>\n",
       "      <td>6420.000000</td>\n",
       "      <td>...</td>\n",
       "      <td>7.300000</td>\n",
       "      <td>7.300000</td>\n",
       "      <td>7.200000</td>\n",
       "      <td>7.200000</td>\n",
       "      <td>7.10000</td>\n",
       "      <td>7.100000</td>\n",
       "      <td>7.000000</td>\n",
       "      <td>6.400000</td>\n",
       "      <td>7.500000</td>\n",
       "      <td>7.300000</td>\n",
       "    </tr>\n",
       "    <tr>\n",
       "      <th>25%</th>\n",
       "      <td>2011.000000</td>\n",
       "      <td>1.575000e+07</td>\n",
       "      <td>4.199752e+07</td>\n",
       "      <td>1000.000000</td>\n",
       "      <td>580.000000</td>\n",
       "      <td>319.750000</td>\n",
       "      <td>7.700000</td>\n",
       "      <td>72.000000</td>\n",
       "      <td>114.750000</td>\n",
       "      <td>30587.000000</td>\n",
       "      <td>...</td>\n",
       "      <td>7.700000</td>\n",
       "      <td>7.600000</td>\n",
       "      <td>7.500000</td>\n",
       "      <td>7.600000</td>\n",
       "      <td>7.50000</td>\n",
       "      <td>7.475000</td>\n",
       "      <td>7.500000</td>\n",
       "      <td>7.100000</td>\n",
       "      <td>7.800000</td>\n",
       "      <td>7.600000</td>\n",
       "    </tr>\n",
       "    <tr>\n",
       "      <th>50%</th>\n",
       "      <td>2013.000000</td>\n",
       "      <td>4.225000e+07</td>\n",
       "      <td>1.070266e+08</td>\n",
       "      <td>13000.000000</td>\n",
       "      <td>1000.000000</td>\n",
       "      <td>626.500000</td>\n",
       "      <td>7.800000</td>\n",
       "      <td>78.000000</td>\n",
       "      <td>124.000000</td>\n",
       "      <td>54900.500000</td>\n",
       "      <td>...</td>\n",
       "      <td>8.000000</td>\n",
       "      <td>7.700000</td>\n",
       "      <td>7.700000</td>\n",
       "      <td>7.800000</td>\n",
       "      <td>7.65000</td>\n",
       "      <td>7.600000</td>\n",
       "      <td>7.800000</td>\n",
       "      <td>7.300000</td>\n",
       "      <td>7.950000</td>\n",
       "      <td>7.750000</td>\n",
       "    </tr>\n",
       "    <tr>\n",
       "      <th>75%</th>\n",
       "      <td>2014.000000</td>\n",
       "      <td>1.500000e+08</td>\n",
       "      <td>2.107548e+08</td>\n",
       "      <td>20000.000000</td>\n",
       "      <td>11000.000000</td>\n",
       "      <td>1000.000000</td>\n",
       "      <td>8.100000</td>\n",
       "      <td>83.500000</td>\n",
       "      <td>136.250000</td>\n",
       "      <td>80639.000000</td>\n",
       "      <td>...</td>\n",
       "      <td>8.200000</td>\n",
       "      <td>7.900000</td>\n",
       "      <td>7.900000</td>\n",
       "      <td>8.000000</td>\n",
       "      <td>7.80000</td>\n",
       "      <td>7.800000</td>\n",
       "      <td>7.925000</td>\n",
       "      <td>7.500000</td>\n",
       "      <td>8.100000</td>\n",
       "      <td>7.925000</td>\n",
       "    </tr>\n",
       "    <tr>\n",
       "      <th>max</th>\n",
       "      <td>2016.000000</td>\n",
       "      <td>2.600000e+08</td>\n",
       "      <td>9.366622e+08</td>\n",
       "      <td>35000.000000</td>\n",
       "      <td>96000.000000</td>\n",
       "      <td>46000.000000</td>\n",
       "      <td>8.800000</td>\n",
       "      <td>100.000000</td>\n",
       "      <td>180.000000</td>\n",
       "      <td>584839.000000</td>\n",
       "      <td>...</td>\n",
       "      <td>8.800000</td>\n",
       "      <td>8.700000</td>\n",
       "      <td>8.700000</td>\n",
       "      <td>8.500000</td>\n",
       "      <td>8.10000</td>\n",
       "      <td>8.100000</td>\n",
       "      <td>8.500000</td>\n",
       "      <td>8.200000</td>\n",
       "      <td>8.700000</td>\n",
       "      <td>8.800000</td>\n",
       "    </tr>\n",
       "  </tbody>\n",
       "</table>\n",
       "<p>8 rows × 53 columns</p>\n",
       "</div>"
      ],
      "text/plain": [
       "        title_year        budget         Gross  actor_1_facebook_likes  \\\n",
       "count   100.000000  1.000000e+02  1.000000e+02              100.000000   \n",
       "mean   2012.820000  7.838400e+07  1.468679e+08            13407.270000   \n",
       "std       1.919491  7.445295e+07  1.454004e+08            10649.037862   \n",
       "min    2010.000000  3.000000e+06  2.238380e+05               39.000000   \n",
       "25%    2011.000000  1.575000e+07  4.199752e+07             1000.000000   \n",
       "50%    2013.000000  4.225000e+07  1.070266e+08            13000.000000   \n",
       "75%    2014.000000  1.500000e+08  2.107548e+08            20000.000000   \n",
       "max    2016.000000  2.600000e+08  9.366622e+08            35000.000000   \n",
       "\n",
       "       actor_2_facebook_likes  actor_3_facebook_likes  IMDb_rating  \\\n",
       "count               99.000000               98.000000   100.000000   \n",
       "mean              7377.303030             3002.153061     7.883000   \n",
       "std              13471.568216             6940.301133     0.247433   \n",
       "min                 12.000000                0.000000     7.500000   \n",
       "25%                580.000000              319.750000     7.700000   \n",
       "50%               1000.000000              626.500000     7.800000   \n",
       "75%              11000.000000             1000.000000     8.100000   \n",
       "max              96000.000000            46000.000000     8.800000   \n",
       "\n",
       "       MetaCritic     Runtime       CVotes10  ...  Votes1829F   Votes3044  \\\n",
       "count   95.000000  100.000000     100.000000  ...  100.000000  100.000000   \n",
       "mean    78.252632  126.420000   73212.160000  ...    7.982000    7.732000   \n",
       "std      9.122066   19.050799   82669.594746  ...    0.321417    0.251814   \n",
       "min     62.000000   91.000000    6420.000000  ...    7.300000    7.300000   \n",
       "25%     72.000000  114.750000   30587.000000  ...    7.700000    7.600000   \n",
       "50%     78.000000  124.000000   54900.500000  ...    8.000000    7.700000   \n",
       "75%     83.500000  136.250000   80639.000000  ...    8.200000    7.900000   \n",
       "max    100.000000  180.000000  584839.000000  ...    8.800000    8.700000   \n",
       "\n",
       "       Votes3044M  Votes3044F   Votes45A   Votes45AM   Votes45AF   Votes1000  \\\n",
       "count  100.000000  100.000000  100.00000  100.000000  100.000000  100.000000   \n",
       "mean     7.723000    7.780000    7.65100    7.624000    7.770000    7.274000   \n",
       "std      0.260479    0.282128    0.21485    0.213258    0.301344    0.361987   \n",
       "min      7.200000    7.200000    7.10000    7.100000    7.000000    6.400000   \n",
       "25%      7.500000    7.600000    7.50000    7.475000    7.500000    7.100000   \n",
       "50%      7.700000    7.800000    7.65000    7.600000    7.800000    7.300000   \n",
       "75%      7.900000    8.000000    7.80000    7.800000    7.925000    7.500000   \n",
       "max      8.700000    8.500000    8.10000    8.100000    8.500000    8.200000   \n",
       "\n",
       "          VotesUS    VotesnUS  \n",
       "count  100.000000  100.000000  \n",
       "mean     7.958000    7.793000  \n",
       "std      0.232327    0.264099  \n",
       "min      7.500000    7.300000  \n",
       "25%      7.800000    7.600000  \n",
       "50%      7.950000    7.750000  \n",
       "75%      8.100000    7.925000  \n",
       "max      8.700000    8.800000  \n",
       "\n",
       "[8 rows x 53 columns]"
      ]
     },
     "execution_count": 6,
     "metadata": {},
     "output_type": "execute_result"
    }
   ],
   "source": [
    "# Check the summary for the numeric columns \n",
    "movies.describe()"
   ]
  },
  {
   "cell_type": "markdown",
   "id": "posted-reward",
   "metadata": {
    "papermill": {
     "duration": 0.067174,
     "end_time": "2021-06-14T20:49:11.862961",
     "exception": false,
     "start_time": "2021-06-14T20:49:11.795787",
     "status": "completed"
    },
    "tags": []
   },
   "source": [
    "## Task 2: Data Analysis\n",
    "\n",
    "Now that we have loaded the dataset and inspected it, we see that most of the data is in place. As of now, no data cleaning is required, so let's start with some data manipulation, analysis, and visualisation to get various insights about the data. "
   ]
  },
  {
   "cell_type": "markdown",
   "id": "baking-recall",
   "metadata": {
    "papermill": {
     "duration": 0.065778,
     "end_time": "2021-06-14T20:49:11.995267",
     "exception": false,
     "start_time": "2021-06-14T20:49:11.929489",
     "status": "completed"
    },
    "tags": []
   },
   "source": [
    "-  ###  Subtask 2.1: Reduce those Digits!\n",
    "\n",
    "These numbers in the `budget` and `gross` are too big, compromising its readability. Let's convert the unit of the `budget` and `gross` columns from `$` to `million $` first."
   ]
  },
  {
   "cell_type": "code",
   "execution_count": 7,
   "id": "olive-representative",
   "metadata": {
    "execution": {
     "iopub.execute_input": "2021-06-14T20:49:12.139957Z",
     "iopub.status.busy": "2021-06-14T20:49:12.139216Z",
     "iopub.status.idle": "2021-06-14T20:49:12.143515Z",
     "shell.execute_reply": "2021-06-14T20:49:12.142976Z",
     "shell.execute_reply.started": "2021-06-12T04:41:26.931104Z"
    },
    "papermill": {
     "duration": 0.082252,
     "end_time": "2021-06-14T20:49:12.143693",
     "exception": false,
     "start_time": "2021-06-14T20:49:12.061441",
     "status": "completed"
    },
    "tags": []
   },
   "outputs": [
    {
     "data": {
      "text/html": [
       "<div>\n",
       "<style scoped>\n",
       "    .dataframe tbody tr th:only-of-type {\n",
       "        vertical-align: middle;\n",
       "    }\n",
       "\n",
       "    .dataframe tbody tr th {\n",
       "        vertical-align: top;\n",
       "    }\n",
       "\n",
       "    .dataframe thead th {\n",
       "        text-align: right;\n",
       "    }\n",
       "</style>\n",
       "<table border=\"1\" class=\"dataframe\">\n",
       "  <thead>\n",
       "    <tr style=\"text-align: right;\">\n",
       "      <th></th>\n",
       "      <th>Gross</th>\n",
       "      <th>budget</th>\n",
       "    </tr>\n",
       "  </thead>\n",
       "  <tbody>\n",
       "    <tr>\n",
       "      <th>0</th>\n",
       "      <td>151101803</td>\n",
       "      <td>30000000</td>\n",
       "    </tr>\n",
       "    <tr>\n",
       "      <th>1</th>\n",
       "      <td>341268248</td>\n",
       "      <td>150000000</td>\n",
       "    </tr>\n",
       "    <tr>\n",
       "      <th>2</th>\n",
       "      <td>51738905</td>\n",
       "      <td>12000000</td>\n",
       "    </tr>\n",
       "    <tr>\n",
       "      <th>3</th>\n",
       "      <td>100546139</td>\n",
       "      <td>47000000</td>\n",
       "    </tr>\n",
       "    <tr>\n",
       "      <th>4</th>\n",
       "      <td>47695371</td>\n",
       "      <td>9000000</td>\n",
       "    </tr>\n",
       "  </tbody>\n",
       "</table>\n",
       "</div>"
      ],
      "text/plain": [
       "       Gross     budget\n",
       "0  151101803   30000000\n",
       "1  341268248  150000000\n",
       "2   51738905   12000000\n",
       "3  100546139   47000000\n",
       "4   47695371    9000000"
      ]
     },
     "execution_count": 7,
     "metadata": {},
     "output_type": "execute_result"
    }
   ],
   "source": [
    "# Inspecting gross and budget columns\n",
    "movies.loc[:,[\"Gross\",\"budget\"]].head()"
   ]
  },
  {
   "cell_type": "code",
   "execution_count": 8,
   "id": "loved-split",
   "metadata": {
    "execution": {
     "iopub.execute_input": "2021-06-14T20:49:12.285126Z",
     "iopub.status.busy": "2021-06-14T20:49:12.284351Z",
     "iopub.status.idle": "2021-06-14T20:49:12.307233Z",
     "shell.execute_reply": "2021-06-14T20:49:12.306489Z",
     "shell.execute_reply.started": "2021-06-12T04:41:26.943127Z"
    },
    "papermill": {
     "duration": 0.095036,
     "end_time": "2021-06-14T20:49:12.307391",
     "exception": false,
     "start_time": "2021-06-14T20:49:12.212355",
     "status": "completed"
    },
    "tags": []
   },
   "outputs": [],
   "source": [
    "# Divide the 'gross' and 'budget' columns by 1000000 to convert '$' to 'million $'\n",
    "movies[\"Gross\"] = movies[\"Gross\"] / 1000000\n",
    "movies[\"budget\"] = movies[\"budget\"] / 1000000"
   ]
  },
  {
   "cell_type": "code",
   "execution_count": 9,
   "id": "liked-boundary",
   "metadata": {
    "execution": {
     "iopub.execute_input": "2021-06-14T20:49:12.454858Z",
     "iopub.status.busy": "2021-06-14T20:49:12.448142Z",
     "iopub.status.idle": "2021-06-14T20:49:12.459976Z",
     "shell.execute_reply": "2021-06-14T20:49:12.459286Z",
     "shell.execute_reply.started": "2021-06-12T04:41:26.971158Z"
    },
    "papermill": {
     "duration": 0.084226,
     "end_time": "2021-06-14T20:49:12.460121",
     "exception": false,
     "start_time": "2021-06-14T20:49:12.375895",
     "status": "completed"
    },
    "tags": []
   },
   "outputs": [
    {
     "data": {
      "text/html": [
       "<div>\n",
       "<style scoped>\n",
       "    .dataframe tbody tr th:only-of-type {\n",
       "        vertical-align: middle;\n",
       "    }\n",
       "\n",
       "    .dataframe tbody tr th {\n",
       "        vertical-align: top;\n",
       "    }\n",
       "\n",
       "    .dataframe thead th {\n",
       "        text-align: right;\n",
       "    }\n",
       "</style>\n",
       "<table border=\"1\" class=\"dataframe\">\n",
       "  <thead>\n",
       "    <tr style=\"text-align: right;\">\n",
       "      <th></th>\n",
       "      <th>Gross</th>\n",
       "      <th>budget</th>\n",
       "    </tr>\n",
       "  </thead>\n",
       "  <tbody>\n",
       "    <tr>\n",
       "      <th>0</th>\n",
       "      <td>151.101803</td>\n",
       "      <td>30.0</td>\n",
       "    </tr>\n",
       "    <tr>\n",
       "      <th>1</th>\n",
       "      <td>341.268248</td>\n",
       "      <td>150.0</td>\n",
       "    </tr>\n",
       "    <tr>\n",
       "      <th>2</th>\n",
       "      <td>51.738905</td>\n",
       "      <td>12.0</td>\n",
       "    </tr>\n",
       "    <tr>\n",
       "      <th>3</th>\n",
       "      <td>100.546139</td>\n",
       "      <td>47.0</td>\n",
       "    </tr>\n",
       "    <tr>\n",
       "      <th>4</th>\n",
       "      <td>47.695371</td>\n",
       "      <td>9.0</td>\n",
       "    </tr>\n",
       "  </tbody>\n",
       "</table>\n",
       "</div>"
      ],
      "text/plain": [
       "        Gross  budget\n",
       "0  151.101803    30.0\n",
       "1  341.268248   150.0\n",
       "2   51.738905    12.0\n",
       "3  100.546139    47.0\n",
       "4   47.695371     9.0"
      ]
     },
     "execution_count": 9,
     "metadata": {},
     "output_type": "execute_result"
    }
   ],
   "source": [
    "# Checking gross and budget column values post change\n",
    "movies.loc[:,[\"Gross\",\"budget\"]].head()"
   ]
  },
  {
   "cell_type": "markdown",
   "id": "based-government",
   "metadata": {
    "papermill": {
     "duration": 0.066676,
     "end_time": "2021-06-14T20:49:12.593457",
     "exception": false,
     "start_time": "2021-06-14T20:49:12.526781",
     "status": "completed"
    },
    "tags": []
   },
   "source": [
    "-  ###  Subtask 2.2: Let's Talk Profit!\n",
    "\n",
    "    1. Create a new column called `profit` which contains the difference of the two columns: `gross` and `budget`.\n",
    "    2. Sort the dataframe using the `profit` column as reference.\n",
    "    3. Extract the top ten profiting movies in descending order and store them in a new dataframe - `top10`.\n",
    "    4. Plot a scatter or a joint plot between the columns `budget` and `profit` and write a few words on what you observed.\n",
    "    5. Extract the movies with a negative profit and store them in a new dataframe - `neg_profit`"
   ]
  },
  {
   "cell_type": "code",
   "execution_count": 10,
   "id": "parallel-freeze",
   "metadata": {
    "execution": {
     "iopub.execute_input": "2021-06-14T20:49:12.733939Z",
     "iopub.status.busy": "2021-06-14T20:49:12.733264Z",
     "iopub.status.idle": "2021-06-14T20:49:12.736837Z",
     "shell.execute_reply": "2021-06-14T20:49:12.736209Z",
     "shell.execute_reply.started": "2021-06-12T04:41:26.983749Z"
    },
    "papermill": {
     "duration": 0.076556,
     "end_time": "2021-06-14T20:49:12.736999",
     "exception": false,
     "start_time": "2021-06-14T20:49:12.660443",
     "status": "completed"
    },
    "tags": []
   },
   "outputs": [],
   "source": [
    "# Create the new column named 'profit' by subtracting the 'budget' column from the 'gross' column\n",
    "# Create a new column called profit which contains the difference of the two columns: gross and budget\n",
    "\n",
    "movies[\"profit\"] = movies[\"Gross\"] - movies[\"budget\"]"
   ]
  },
  {
   "cell_type": "code",
   "execution_count": 11,
   "id": "large-float",
   "metadata": {
    "execution": {
     "iopub.execute_input": "2021-06-14T20:49:12.905810Z",
     "iopub.status.busy": "2021-06-14T20:49:12.904742Z",
     "iopub.status.idle": "2021-06-14T20:49:12.909933Z",
     "shell.execute_reply": "2021-06-14T20:49:12.909259Z",
     "shell.execute_reply.started": "2021-06-12T04:41:26.990951Z"
    },
    "papermill": {
     "duration": 0.102333,
     "end_time": "2021-06-14T20:49:12.910094",
     "exception": false,
     "start_time": "2021-06-14T20:49:12.807761",
     "status": "completed"
    },
    "tags": []
   },
   "outputs": [
    {
     "data": {
      "text/html": [
       "<div>\n",
       "<style scoped>\n",
       "    .dataframe tbody tr th:only-of-type {\n",
       "        vertical-align: middle;\n",
       "    }\n",
       "\n",
       "    .dataframe tbody tr th {\n",
       "        vertical-align: top;\n",
       "    }\n",
       "\n",
       "    .dataframe thead th {\n",
       "        text-align: right;\n",
       "    }\n",
       "</style>\n",
       "<table border=\"1\" class=\"dataframe\">\n",
       "  <thead>\n",
       "    <tr style=\"text-align: right;\">\n",
       "      <th></th>\n",
       "      <th>Title</th>\n",
       "      <th>title_year</th>\n",
       "      <th>budget</th>\n",
       "      <th>Gross</th>\n",
       "      <th>actor_1_name</th>\n",
       "      <th>actor_2_name</th>\n",
       "      <th>actor_3_name</th>\n",
       "      <th>actor_1_facebook_likes</th>\n",
       "      <th>actor_2_facebook_likes</th>\n",
       "      <th>actor_3_facebook_likes</th>\n",
       "      <th>...</th>\n",
       "      <th>Votes3044F</th>\n",
       "      <th>Votes45A</th>\n",
       "      <th>Votes45AM</th>\n",
       "      <th>Votes45AF</th>\n",
       "      <th>Votes1000</th>\n",
       "      <th>VotesUS</th>\n",
       "      <th>VotesnUS</th>\n",
       "      <th>content_rating</th>\n",
       "      <th>Country</th>\n",
       "      <th>profit</th>\n",
       "    </tr>\n",
       "  </thead>\n",
       "  <tbody>\n",
       "    <tr>\n",
       "      <th>0</th>\n",
       "      <td>La La Land</td>\n",
       "      <td>2016</td>\n",
       "      <td>30.0</td>\n",
       "      <td>151.101803</td>\n",
       "      <td>Ryan Gosling</td>\n",
       "      <td>Emma Stone</td>\n",
       "      <td>Amiée Conn</td>\n",
       "      <td>14000</td>\n",
       "      <td>19000.0</td>\n",
       "      <td>NaN</td>\n",
       "      <td>...</td>\n",
       "      <td>7.8</td>\n",
       "      <td>7.6</td>\n",
       "      <td>7.6</td>\n",
       "      <td>7.5</td>\n",
       "      <td>7.1</td>\n",
       "      <td>8.3</td>\n",
       "      <td>8.1</td>\n",
       "      <td>PG-13</td>\n",
       "      <td>USA</td>\n",
       "      <td>121.101803</td>\n",
       "    </tr>\n",
       "  </tbody>\n",
       "</table>\n",
       "<p>1 rows × 63 columns</p>\n",
       "</div>"
      ],
      "text/plain": [
       "        Title  title_year  budget       Gross  actor_1_name actor_2_name  \\\n",
       "0  La La Land        2016    30.0  151.101803  Ryan Gosling   Emma Stone   \n",
       "\n",
       "  actor_3_name  actor_1_facebook_likes  actor_2_facebook_likes  \\\n",
       "0   Amiée Conn                   14000                 19000.0   \n",
       "\n",
       "   actor_3_facebook_likes  ...  Votes3044F Votes45A Votes45AM Votes45AF  \\\n",
       "0                     NaN  ...         7.8      7.6       7.6       7.5   \n",
       "\n",
       "   Votes1000  VotesUS  VotesnUS  content_rating  Country      profit  \n",
       "0        7.1      8.3       8.1           PG-13      USA  121.101803  \n",
       "\n",
       "[1 rows x 63 columns]"
      ]
     },
     "execution_count": 11,
     "metadata": {},
     "output_type": "execute_result"
    }
   ],
   "source": [
    "# Inspecting the data frame to check if \"profit\" column exists\n",
    "movies.head(1)"
   ]
  },
  {
   "cell_type": "code",
   "execution_count": 12,
   "id": "painted-handbook",
   "metadata": {
    "execution": {
     "iopub.execute_input": "2021-06-14T20:49:13.056110Z",
     "iopub.status.busy": "2021-06-14T20:49:13.055399Z",
     "iopub.status.idle": "2021-06-14T20:49:13.059500Z",
     "shell.execute_reply": "2021-06-14T20:49:13.058879Z",
     "shell.execute_reply.started": "2021-06-12T04:41:27.026791Z"
    },
    "papermill": {
     "duration": 0.080835,
     "end_time": "2021-06-14T20:49:13.059674",
     "exception": false,
     "start_time": "2021-06-14T20:49:12.978839",
     "status": "completed"
    },
    "tags": []
   },
   "outputs": [],
   "source": [
    "# Sort the dataframe with the 'profit' column as reference using the 'sort_values' function. Make sure to set the argument\n",
    "#'ascending' to 'False'\n",
    "movies.sort_values(by = \"profit\", ascending = False, inplace = True)"
   ]
  },
  {
   "cell_type": "code",
   "execution_count": 13,
   "id": "functioning-scholarship",
   "metadata": {
    "execution": {
     "iopub.execute_input": "2021-06-14T20:49:13.202966Z",
     "iopub.status.busy": "2021-06-14T20:49:13.202278Z",
     "iopub.status.idle": "2021-06-14T20:49:13.204680Z",
     "shell.execute_reply": "2021-06-14T20:49:13.205118Z",
     "shell.execute_reply.started": "2021-06-12T04:41:27.039078Z"
    },
    "papermill": {
     "duration": 0.075287,
     "end_time": "2021-06-14T20:49:13.205301",
     "exception": false,
     "start_time": "2021-06-14T20:49:13.130014",
     "status": "completed"
    },
    "tags": []
   },
   "outputs": [],
   "source": [
    "# Resetting index after sorting by profit to start ordering at 0\n",
    "movies.reset_index(drop = True, inplace = True)"
   ]
  },
  {
   "cell_type": "code",
   "execution_count": 14,
   "id": "missing-sponsorship",
   "metadata": {
    "execution": {
     "iopub.execute_input": "2021-06-14T20:49:13.343864Z",
     "iopub.status.busy": "2021-06-14T20:49:13.343132Z",
     "iopub.status.idle": "2021-06-14T20:49:13.376561Z",
     "shell.execute_reply": "2021-06-14T20:49:13.375901Z",
     "shell.execute_reply.started": "2021-06-12T04:41:27.049962Z"
    },
    "papermill": {
     "duration": 0.104294,
     "end_time": "2021-06-14T20:49:13.376725",
     "exception": false,
     "start_time": "2021-06-14T20:49:13.272431",
     "status": "completed"
    },
    "tags": []
   },
   "outputs": [
    {
     "data": {
      "text/html": [
       "<div>\n",
       "<style scoped>\n",
       "    .dataframe tbody tr th:only-of-type {\n",
       "        vertical-align: middle;\n",
       "    }\n",
       "\n",
       "    .dataframe tbody tr th {\n",
       "        vertical-align: top;\n",
       "    }\n",
       "\n",
       "    .dataframe thead th {\n",
       "        text-align: right;\n",
       "    }\n",
       "</style>\n",
       "<table border=\"1\" class=\"dataframe\">\n",
       "  <thead>\n",
       "    <tr style=\"text-align: right;\">\n",
       "      <th></th>\n",
       "      <th>Title</th>\n",
       "      <th>title_year</th>\n",
       "      <th>budget</th>\n",
       "      <th>Gross</th>\n",
       "      <th>actor_1_name</th>\n",
       "      <th>actor_2_name</th>\n",
       "      <th>actor_3_name</th>\n",
       "      <th>actor_1_facebook_likes</th>\n",
       "      <th>actor_2_facebook_likes</th>\n",
       "      <th>actor_3_facebook_likes</th>\n",
       "      <th>...</th>\n",
       "      <th>Votes3044F</th>\n",
       "      <th>Votes45A</th>\n",
       "      <th>Votes45AM</th>\n",
       "      <th>Votes45AF</th>\n",
       "      <th>Votes1000</th>\n",
       "      <th>VotesUS</th>\n",
       "      <th>VotesnUS</th>\n",
       "      <th>content_rating</th>\n",
       "      <th>Country</th>\n",
       "      <th>profit</th>\n",
       "    </tr>\n",
       "  </thead>\n",
       "  <tbody>\n",
       "    <tr>\n",
       "      <th>0</th>\n",
       "      <td>Star Wars: Episode VII - The Force Awakens</td>\n",
       "      <td>2015</td>\n",
       "      <td>245.0</td>\n",
       "      <td>936.662225</td>\n",
       "      <td>Doug Walker</td>\n",
       "      <td>Rob Walker</td>\n",
       "      <td>0</td>\n",
       "      <td>131</td>\n",
       "      <td>12.0</td>\n",
       "      <td>0.0</td>\n",
       "      <td>...</td>\n",
       "      <td>8.2</td>\n",
       "      <td>7.9</td>\n",
       "      <td>7.8</td>\n",
       "      <td>8.2</td>\n",
       "      <td>7.7</td>\n",
       "      <td>8.2</td>\n",
       "      <td>7.9</td>\n",
       "      <td>PG-13</td>\n",
       "      <td>USA</td>\n",
       "      <td>691.662225</td>\n",
       "    </tr>\n",
       "    <tr>\n",
       "      <th>1</th>\n",
       "      <td>The Avengers</td>\n",
       "      <td>2012</td>\n",
       "      <td>220.0</td>\n",
       "      <td>623.279547</td>\n",
       "      <td>Chris Hemsworth</td>\n",
       "      <td>Robert Downey Jr.</td>\n",
       "      <td>Scarlett Johansson</td>\n",
       "      <td>26000</td>\n",
       "      <td>21000.0</td>\n",
       "      <td>19000.0</td>\n",
       "      <td>...</td>\n",
       "      <td>8.1</td>\n",
       "      <td>7.9</td>\n",
       "      <td>7.9</td>\n",
       "      <td>8.1</td>\n",
       "      <td>7.4</td>\n",
       "      <td>8.3</td>\n",
       "      <td>7.9</td>\n",
       "      <td>PG-13</td>\n",
       "      <td>USA</td>\n",
       "      <td>403.279547</td>\n",
       "    </tr>\n",
       "    <tr>\n",
       "      <th>2</th>\n",
       "      <td>Deadpool</td>\n",
       "      <td>2016</td>\n",
       "      <td>58.0</td>\n",
       "      <td>363.024263</td>\n",
       "      <td>Ryan Reynolds</td>\n",
       "      <td>Ed Skrein</td>\n",
       "      <td>Stefan Kapicic</td>\n",
       "      <td>16000</td>\n",
       "      <td>805.0</td>\n",
       "      <td>361.0</td>\n",
       "      <td>...</td>\n",
       "      <td>7.9</td>\n",
       "      <td>7.8</td>\n",
       "      <td>7.8</td>\n",
       "      <td>7.9</td>\n",
       "      <td>7.3</td>\n",
       "      <td>8.1</td>\n",
       "      <td>7.9</td>\n",
       "      <td>R</td>\n",
       "      <td>USA</td>\n",
       "      <td>305.024263</td>\n",
       "    </tr>\n",
       "  </tbody>\n",
       "</table>\n",
       "<p>3 rows × 63 columns</p>\n",
       "</div>"
      ],
      "text/plain": [
       "                                        Title  title_year  budget       Gross  \\\n",
       "0  Star Wars: Episode VII - The Force Awakens        2015   245.0  936.662225   \n",
       "1                                The Avengers        2012   220.0  623.279547   \n",
       "2                                    Deadpool        2016    58.0  363.024263   \n",
       "\n",
       "      actor_1_name       actor_2_name        actor_3_name  \\\n",
       "0      Doug Walker         Rob Walker                   0   \n",
       "1  Chris Hemsworth  Robert Downey Jr.  Scarlett Johansson   \n",
       "2    Ryan Reynolds          Ed Skrein      Stefan Kapicic   \n",
       "\n",
       "   actor_1_facebook_likes  actor_2_facebook_likes  actor_3_facebook_likes  \\\n",
       "0                     131                    12.0                     0.0   \n",
       "1                   26000                 21000.0                 19000.0   \n",
       "2                   16000                   805.0                   361.0   \n",
       "\n",
       "   ...  Votes3044F Votes45A Votes45AM Votes45AF  Votes1000  VotesUS  VotesnUS  \\\n",
       "0  ...         8.2      7.9       7.8       8.2        7.7      8.2       7.9   \n",
       "1  ...         8.1      7.9       7.9       8.1        7.4      8.3       7.9   \n",
       "2  ...         7.9      7.8       7.8       7.9        7.3      8.1       7.9   \n",
       "\n",
       "   content_rating  Country      profit  \n",
       "0           PG-13      USA  691.662225  \n",
       "1           PG-13      USA  403.279547  \n",
       "2               R      USA  305.024263  \n",
       "\n",
       "[3 rows x 63 columns]"
      ]
     },
     "execution_count": 14,
     "metadata": {},
     "output_type": "execute_result"
    }
   ],
   "source": [
    "# Check to see if profit is in descending order\n",
    "movies.head(3)"
   ]
  },
  {
   "cell_type": "code",
   "execution_count": 15,
   "id": "medical-cloud",
   "metadata": {
    "execution": {
     "iopub.execute_input": "2021-06-14T20:49:13.516348Z",
     "iopub.status.busy": "2021-06-14T20:49:13.515703Z",
     "iopub.status.idle": "2021-06-14T20:49:13.520149Z",
     "shell.execute_reply": "2021-06-14T20:49:13.520669Z",
     "shell.execute_reply.started": "2021-06-12T04:41:27.088222Z"
    },
    "papermill": {
     "duration": 0.076065,
     "end_time": "2021-06-14T20:49:13.520857",
     "exception": false,
     "start_time": "2021-06-14T20:49:13.444792",
     "status": "completed"
    },
    "tags": []
   },
   "outputs": [],
   "source": [
    "# Get the top 10 profitable movies by using position based indexing. Specify the rows till 10 (0-9)\n",
    "# Extract the top ten profiting movies in descending order and store them in a new dataframe - top10\n",
    "top10 = movies.loc[:9,:].copy()"
   ]
  },
  {
   "cell_type": "code",
   "execution_count": 16,
   "id": "labeled-dialogue",
   "metadata": {
    "execution": {
     "iopub.execute_input": "2021-06-14T20:49:13.659537Z",
     "iopub.status.busy": "2021-06-14T20:49:13.658943Z",
     "iopub.status.idle": "2021-06-14T20:49:13.663841Z",
     "shell.execute_reply": "2021-06-14T20:49:13.664329Z",
     "shell.execute_reply.started": "2021-06-12T04:41:27.097877Z"
    },
    "papermill": {
     "duration": 0.075768,
     "end_time": "2021-06-14T20:49:13.664495",
     "exception": false,
     "start_time": "2021-06-14T20:49:13.588727",
     "status": "completed"
    },
    "tags": []
   },
   "outputs": [
    {
     "data": {
      "text/plain": [
       "(10, 63)"
      ]
     },
     "execution_count": 16,
     "metadata": {},
     "output_type": "execute_result"
    }
   ],
   "source": [
    "# Checking if we have top 10 movies in the dataframe\n",
    "top10.shape"
   ]
  },
  {
   "cell_type": "code",
   "execution_count": 17,
   "id": "thick-syria",
   "metadata": {
    "execution": {
     "iopub.execute_input": "2021-06-14T20:49:13.803540Z",
     "iopub.status.busy": "2021-06-14T20:49:13.802906Z",
     "iopub.status.idle": "2021-06-14T20:49:13.809961Z",
     "shell.execute_reply": "2021-06-14T20:49:13.810596Z",
     "shell.execute_reply.started": "2021-06-12T04:41:27.115647Z"
    },
    "papermill": {
     "duration": 0.078595,
     "end_time": "2021-06-14T20:49:13.810778",
     "exception": false,
     "start_time": "2021-06-14T20:49:13.732183",
     "status": "completed"
    },
    "tags": []
   },
   "outputs": [],
   "source": [
    "# Adding colors to the dataframe for negative profit\n",
    "movies[\"profit_colors\"] = movies.profit.apply(lambda x: \"red\" if x < 0 else \"limegreen\")"
   ]
  },
  {
   "cell_type": "code",
   "execution_count": 18,
   "id": "finnish-chapel",
   "metadata": {
    "execution": {
     "iopub.execute_input": "2021-06-14T20:49:13.953777Z",
     "iopub.status.busy": "2021-06-14T20:49:13.953035Z",
     "iopub.status.idle": "2021-06-14T20:49:14.208161Z",
     "shell.execute_reply": "2021-06-14T20:49:14.208680Z",
     "shell.execute_reply.started": "2021-06-12T04:41:27.12963Z"
    },
    "papermill": {
     "duration": 0.330418,
     "end_time": "2021-06-14T20:49:14.208905",
     "exception": false,
     "start_time": "2021-06-14T20:49:13.878487",
     "status": "completed"
    },
    "scrolled": true,
    "tags": []
   },
   "outputs": [
    {
     "data": {
      "image/png": "[encoded data removed]",
      "text/plain": [
       "<Figure size 432x288 with 1 Axes>"
      ]
     },
     "metadata": {
      "needs_background": "light"
     },
     "output_type": "display_data"
    }
   ],
   "source": [
    "#Plot profit vs budget\n",
    "# Plot a scatter or a joint plot between the columns budget and profit and write a few words on what you observed\n",
    "movies.plot(kind = \"scatter\", x = \"profit\", y = \"budget\", c = \"profit_colors\", title = \"Profit vs. Budget\")\n",
    "plt.show()"
   ]
  },
  {
   "cell_type": "markdown",
   "id": "interstate-couple",
   "metadata": {
    "papermill": {
     "duration": 0.069712,
     "end_time": "2021-06-14T20:49:14.350627",
     "exception": false,
     "start_time": "2021-06-14T20:49:14.280915",
     "status": "completed"
    },
    "tags": []
   },
   "source": [
    "#### Observations\n",
    "\n",
    "- We see couple of movies with large budgets having a negative value for Profit (ie., incurring a loss)\n",
    "- There is one movie which has a high budget (approx. `250 Million`) and a very high profit (approx. `700 Million`)\n",
    "- We cannot accurately judge the trend of movie profit based on budget looking at the scatter plot"
   ]
  },
  {
   "cell_type": "markdown",
   "id": "equipped-tribute",
   "metadata": {
    "papermill": {
     "duration": 0.070998,
     "end_time": "2021-06-14T20:49:14.495872",
     "exception": false,
     "start_time": "2021-06-14T20:49:14.424874",
     "status": "completed"
    },
    "tags": []
   },
   "source": [
    "Dropping the column `profit_colors` as it's no longer required"
   ]
  },
  {
   "cell_type": "code",
   "execution_count": 19,
   "id": "nominated-tulsa",
   "metadata": {
    "execution": {
     "iopub.execute_input": "2021-06-14T20:49:14.643021Z",
     "iopub.status.busy": "2021-06-14T20:49:14.641990Z",
     "iopub.status.idle": "2021-06-14T20:49:14.649178Z",
     "shell.execute_reply": "2021-06-14T20:49:14.649803Z",
     "shell.execute_reply.started": "2021-06-12T04:41:27.34814Z"
    },
    "papermill": {
     "duration": 0.083361,
     "end_time": "2021-06-14T20:49:14.650036",
     "exception": false,
     "start_time": "2021-06-14T20:49:14.566675",
     "status": "completed"
    },
    "tags": []
   },
   "outputs": [],
   "source": [
    "movies.drop(columns = \"profit_colors\", inplace = True)"
   ]
  },
  {
   "cell_type": "markdown",
   "id": "divine-grove",
   "metadata": {
    "papermill": {
     "duration": 0.071683,
     "end_time": "2021-06-14T20:49:14.793115",
     "exception": false,
     "start_time": "2021-06-14T20:49:14.721432",
     "status": "completed"
    },
    "tags": []
   },
   "source": [
    "The dataset contains the 100 best performing movies from the year 2010 to 2016. However, the scatter plot tells a different story. You can notice that there are some movies with negative profit. Although good movies do incur losses, but there appear to be quite a few movie with losses. What can be the reason behind this? Lets have a closer look at this by finding the movies with negative profit."
   ]
  },
  {
   "cell_type": "markdown",
   "id": "norman-reform",
   "metadata": {
    "papermill": {
     "duration": 0.073201,
     "end_time": "2021-06-14T20:49:14.938918",
     "exception": false,
     "start_time": "2021-06-14T20:49:14.865717",
     "status": "completed"
    },
    "tags": []
   },
   "source": [
    "Extract the movies with a negative profit and store them in a new dataframe - neg_profit"
   ]
  },
  {
   "cell_type": "code",
   "execution_count": 20,
   "id": "dedicated-cincinnati",
   "metadata": {
    "execution": {
     "iopub.execute_input": "2021-06-14T20:49:15.083220Z",
     "iopub.status.busy": "2021-06-14T20:49:15.082240Z",
     "iopub.status.idle": "2021-06-14T20:49:15.088154Z",
     "shell.execute_reply": "2021-06-14T20:49:15.088734Z",
     "shell.execute_reply.started": "2021-06-12T04:41:27.354844Z"
    },
    "papermill": {
     "duration": 0.079068,
     "end_time": "2021-06-14T20:49:15.088915",
     "exception": false,
     "start_time": "2021-06-14T20:49:15.009847",
     "status": "completed"
    },
    "tags": []
   },
   "outputs": [],
   "source": [
    "#Find the movies with negative profit\n",
    "neg_profit = movies[movies.profit < 0]"
   ]
  },
  {
   "cell_type": "code",
   "execution_count": 21,
   "id": "increasing-inspector",
   "metadata": {
    "execution": {
     "iopub.execute_input": "2021-06-14T20:49:15.237310Z",
     "iopub.status.busy": "2021-06-14T20:49:15.236336Z",
     "iopub.status.idle": "2021-06-14T20:49:15.244354Z",
     "shell.execute_reply": "2021-06-14T20:49:15.244950Z",
     "shell.execute_reply.started": "2021-06-12T04:41:27.36607Z"
    },
    "papermill": {
     "duration": 0.081009,
     "end_time": "2021-06-14T20:49:15.245122",
     "exception": false,
     "start_time": "2021-06-14T20:49:15.164113",
     "status": "completed"
    },
    "tags": []
   },
   "outputs": [
    {
     "data": {
      "text/plain": [
       "-8.674623     1\n",
       "-77.810499    1\n",
       "-12.247786    1\n",
       "-59.192738    1\n",
       "-4.776162     1\n",
       "-96.179906    1\n",
       "-11.096291    1\n",
       "-13.594629    1\n",
       "-11.348338    1\n",
       "-79.860848    1\n",
       "-28.505730    1\n",
       "Name: profit, dtype: int64"
      ]
     },
     "execution_count": 21,
     "metadata": {},
     "output_type": "execute_result"
    }
   ],
   "source": [
    "# Verifying that only negative profit movies are present in the `neg_profit` dataframe\n",
    "neg_profit.profit.value_counts()"
   ]
  },
  {
   "cell_type": "code",
   "execution_count": 22,
   "id": "official-alberta",
   "metadata": {
    "execution": {
     "iopub.execute_input": "2021-06-14T20:49:15.404713Z",
     "iopub.status.busy": "2021-06-14T20:49:15.403671Z",
     "iopub.status.idle": "2021-06-14T20:49:15.419121Z",
     "shell.execute_reply": "2021-06-14T20:49:15.419561Z",
     "shell.execute_reply.started": "2021-06-12T04:41:27.380255Z"
    },
    "papermill": {
     "duration": 0.104588,
     "end_time": "2021-06-14T20:49:15.419770",
     "exception": false,
     "start_time": "2021-06-14T20:49:15.315182",
     "status": "completed"
    },
    "tags": []
   },
   "outputs": [
    {
     "data": {
      "text/html": [
       "<div>\n",
       "<style scoped>\n",
       "    .dataframe tbody tr th:only-of-type {\n",
       "        vertical-align: middle;\n",
       "    }\n",
       "\n",
       "    .dataframe tbody tr th {\n",
       "        vertical-align: top;\n",
       "    }\n",
       "\n",
       "    .dataframe thead th {\n",
       "        text-align: right;\n",
       "    }\n",
       "</style>\n",
       "<table border=\"1\" class=\"dataframe\">\n",
       "  <thead>\n",
       "    <tr style=\"text-align: right;\">\n",
       "      <th></th>\n",
       "      <th>Title</th>\n",
       "      <th>title_year</th>\n",
       "      <th>budget</th>\n",
       "      <th>Gross</th>\n",
       "      <th>actor_1_name</th>\n",
       "      <th>actor_2_name</th>\n",
       "      <th>actor_3_name</th>\n",
       "      <th>actor_1_facebook_likes</th>\n",
       "      <th>actor_2_facebook_likes</th>\n",
       "      <th>actor_3_facebook_likes</th>\n",
       "      <th>...</th>\n",
       "      <th>Votes3044F</th>\n",
       "      <th>Votes45A</th>\n",
       "      <th>Votes45AM</th>\n",
       "      <th>Votes45AF</th>\n",
       "      <th>Votes1000</th>\n",
       "      <th>VotesUS</th>\n",
       "      <th>VotesnUS</th>\n",
       "      <th>content_rating</th>\n",
       "      <th>Country</th>\n",
       "      <th>profit</th>\n",
       "    </tr>\n",
       "  </thead>\n",
       "  <tbody>\n",
       "    <tr>\n",
       "      <th>96</th>\n",
       "      <td>Tangled</td>\n",
       "      <td>2010</td>\n",
       "      <td>260.0</td>\n",
       "      <td>200.807262</td>\n",
       "      <td>Brad Garrett</td>\n",
       "      <td>Donna Murphy</td>\n",
       "      <td>M.C. Gainey</td>\n",
       "      <td>799</td>\n",
       "      <td>553.0</td>\n",
       "      <td>284.0</td>\n",
       "      <td>...</td>\n",
       "      <td>8.0</td>\n",
       "      <td>7.7</td>\n",
       "      <td>7.6</td>\n",
       "      <td>7.9</td>\n",
       "      <td>6.9</td>\n",
       "      <td>7.9</td>\n",
       "      <td>7.7</td>\n",
       "      <td>PG</td>\n",
       "      <td>USA</td>\n",
       "      <td>-59.192738</td>\n",
       "    </tr>\n",
       "  </tbody>\n",
       "</table>\n",
       "<p>1 rows × 63 columns</p>\n",
       "</div>"
      ],
      "text/plain": [
       "      Title  title_year  budget       Gross  actor_1_name  actor_2_name  \\\n",
       "96  Tangled        2010   260.0  200.807262  Brad Garrett  Donna Murphy   \n",
       "\n",
       "   actor_3_name  actor_1_facebook_likes  actor_2_facebook_likes  \\\n",
       "96  M.C. Gainey                     799                   553.0   \n",
       "\n",
       "    actor_3_facebook_likes  ...  Votes3044F Votes45A Votes45AM Votes45AF  \\\n",
       "96                   284.0  ...         8.0      7.7       7.6       7.9   \n",
       "\n",
       "    Votes1000  VotesUS  VotesnUS  content_rating  Country     profit  \n",
       "96        6.9      7.9       7.7              PG      USA -59.192738  \n",
       "\n",
       "[1 rows x 63 columns]"
      ]
     },
     "execution_count": 22,
     "metadata": {},
     "output_type": "execute_result"
    }
   ],
   "source": [
    "# To check if we have \"Tangled\" movie\n",
    "neg_profit[neg_profit[\"Title\"] == \"Tangled\"]"
   ]
  },
  {
   "cell_type": "markdown",
   "id": "equipped-vermont",
   "metadata": {
    "papermill": {
     "duration": 0.070647,
     "end_time": "2021-06-14T20:49:15.561424",
     "exception": false,
     "start_time": "2021-06-14T20:49:15.490777",
     "status": "completed"
    },
    "tags": []
   },
   "source": [
    "Can we spot the movie `Tangled` in the dataset? Although its one of the highest grossing movies of all time, it has negative profit as per this result. If we cross check the gross values of this movie (link: https://www.imdb.com/title/tt0398286/), we can see that the gross in the dataset accounts only for the domestic gross and not the worldwide gross. This is true for may other movies also in the list."
   ]
  },
  {
   "cell_type": "markdown",
   "id": "polyphonic-format",
   "metadata": {
    "papermill": {
     "duration": 0.069804,
     "end_time": "2021-06-14T20:49:15.702273",
     "exception": false,
     "start_time": "2021-06-14T20:49:15.632469",
     "status": "completed"
    },
    "tags": []
   },
   "source": [
    "- ### Subtask 2.3: The General Audience and the Critics\n",
    "\n",
    "We might have noticed the column `MetaCritic` in this dataset. This is a very popular website where an average score is determined through the scores given by the top-rated critics. Second, we also have another column `IMDb_rating` which tells us the IMDb rating of a movie. This rating is determined by taking the average of hundred-thousands of ratings from the general audience. \n",
    "\n",
    "As a part of this subtask, we find out the highest rated movies which have been liked by critics and audiences alike.\n",
    "1. Firstly we will notice that the `MetaCritic` score is on a scale of `100` whereas the `IMDb_rating` is on a scale of 10. First convert the `MetaCritic` column to a scale of 10.\n",
    "2. Now, to find out the movies which have been liked by both critics and audiences alike and also have a high rating overall, we need to -\n",
    "    - Create a new column `Avg_rating` which will have the average of the `MetaCritic` and `Rating` columns\n",
    "    - Retain only the movies in which the absolute difference(using abs() function) between the `IMDb_rating` and `Metacritic` columns is less than 0.5. Refer to this link to know how abs() funtion works - https://www.geeksforgeeks.org/abs-in-python/ .\n",
    "    - Sort these values in a descending order of `Avg_rating` and retain only the movies with a rating equal to or greater than `8` and store these movies in a new dataframe `UniversalAcclaim`.\n",
    "    "
   ]
  },
  {
   "cell_type": "code",
   "execution_count": 23,
   "id": "identified-ready",
   "metadata": {
    "execution": {
     "iopub.execute_input": "2021-06-14T20:49:15.847725Z",
     "iopub.status.busy": "2021-06-14T20:49:15.846708Z",
     "iopub.status.idle": "2021-06-14T20:49:15.851833Z",
     "shell.execute_reply": "2021-06-14T20:49:15.852303Z",
     "shell.execute_reply.started": "2021-06-12T04:55:55.668543Z"
    },
    "papermill": {
     "duration": 0.08032,
     "end_time": "2021-06-14T20:49:15.852488",
     "exception": false,
     "start_time": "2021-06-14T20:49:15.772168",
     "status": "completed"
    },
    "tags": []
   },
   "outputs": [],
   "source": [
    "# Change the scale of MetaCritic\n",
    "movies[\"MetaCritic\"] = movies[\"MetaCritic\"] / 10"
   ]
  },
  {
   "cell_type": "code",
   "execution_count": 24,
   "id": "finished-fountain",
   "metadata": {
    "execution": {
     "iopub.execute_input": "2021-06-14T20:49:15.998627Z",
     "iopub.status.busy": "2021-06-14T20:49:15.997679Z",
     "iopub.status.idle": "2021-06-14T20:49:16.005769Z",
     "shell.execute_reply": "2021-06-14T20:49:16.005087Z",
     "shell.execute_reply.started": "2021-06-12T04:55:56.120447Z"
    },
    "papermill": {
     "duration": 0.083184,
     "end_time": "2021-06-14T20:49:16.005915",
     "exception": false,
     "start_time": "2021-06-14T20:49:15.922731",
     "status": "completed"
    },
    "tags": []
   },
   "outputs": [
    {
     "data": {
      "text/plain": [
       "array([ 8.1,  6.9,  6.5,  7.6,  9.2,  7.8,  8.3,  7.2,  9.4,  9.6,  7.5,\n",
       "        6.2,  8. ,  7.4,  8.8,  nan,  9.3,  7.9,  8.6,  7. ,  6.3,  6.8,\n",
       "        7.3,  8.2,  9.5,  6.6,  8.9,  8.4,  7.7,  8.7, 10. ,  6.4,  7.1,\n",
       "        6.7,  9. ])"
      ]
     },
     "execution_count": 24,
     "metadata": {},
     "output_type": "execute_result"
    }
   ],
   "source": [
    "# Checking distinct MetaCritic values to check if they are converted to a scale of 10\n",
    "movies.MetaCritic.unique()"
   ]
  },
  {
   "cell_type": "code",
   "execution_count": 25,
   "id": "universal-jacksonville",
   "metadata": {
    "execution": {
     "iopub.execute_input": "2021-06-14T20:49:16.157039Z",
     "iopub.status.busy": "2021-06-14T20:49:16.156214Z",
     "iopub.status.idle": "2021-06-14T20:49:16.159037Z",
     "shell.execute_reply": "2021-06-14T20:49:16.159543Z",
     "shell.execute_reply.started": "2021-06-12T04:55:58.797039Z"
    },
    "papermill": {
     "duration": 0.082634,
     "end_time": "2021-06-14T20:49:16.159793",
     "exception": false,
     "start_time": "2021-06-14T20:49:16.077159",
     "status": "completed"
    },
    "tags": []
   },
   "outputs": [],
   "source": [
    "# Find the average ratings\n",
    "movies[\"Avg_rating\"] = (movies[\"MetaCritic\"] + movies[\"IMDb_rating\"])/2"
   ]
  },
  {
   "cell_type": "code",
   "execution_count": 26,
   "id": "disturbed-registration",
   "metadata": {
    "execution": {
     "iopub.execute_input": "2021-06-14T20:49:16.319434Z",
     "iopub.status.busy": "2021-06-14T20:49:16.318373Z",
     "iopub.status.idle": "2021-06-14T20:49:16.322772Z",
     "shell.execute_reply": "2021-06-14T20:49:16.322090Z",
     "shell.execute_reply.started": "2021-06-12T04:55:59.243727Z"
    },
    "papermill": {
     "duration": 0.087289,
     "end_time": "2021-06-14T20:49:16.322937",
     "exception": false,
     "start_time": "2021-06-14T20:49:16.235648",
     "status": "completed"
    },
    "tags": []
   },
   "outputs": [],
   "source": [
    "# Find the movies with metacritic-Imdb rating < 0.5 and also with an average rating of >= 8 (sorted in descending order)\n",
    "UniversalAcclaim = movies[ (abs(movies[\"MetaCritic\"] - movies[\"IMDb_rating\"]) < 0.5) & (movies[\"Avg_rating\"] >= 8) ].sort_values(by = \"Avg_rating\", ascending = False).copy()"
   ]
  },
  {
   "cell_type": "code",
   "execution_count": 27,
   "id": "political-fourth",
   "metadata": {
    "execution": {
     "iopub.execute_input": "2021-06-14T20:49:16.504701Z",
     "iopub.status.busy": "2021-06-14T20:49:16.503670Z",
     "iopub.status.idle": "2021-06-14T20:49:16.509379Z",
     "shell.execute_reply": "2021-06-14T20:49:16.508843Z",
     "shell.execute_reply.started": "2021-06-12T04:56:01.870484Z"
    },
    "papermill": {
     "duration": 0.115145,
     "end_time": "2021-06-14T20:49:16.509539",
     "exception": false,
     "start_time": "2021-06-14T20:49:16.394394",
     "status": "completed"
    },
    "tags": []
   },
   "outputs": [
    {
     "data": {
      "text/html": [
       "<div>\n",
       "<style scoped>\n",
       "    .dataframe tbody tr th:only-of-type {\n",
       "        vertical-align: middle;\n",
       "    }\n",
       "\n",
       "    .dataframe tbody tr th {\n",
       "        vertical-align: top;\n",
       "    }\n",
       "\n",
       "    .dataframe thead th {\n",
       "        text-align: right;\n",
       "    }\n",
       "</style>\n",
       "<table border=\"1\" class=\"dataframe\">\n",
       "  <thead>\n",
       "    <tr style=\"text-align: right;\">\n",
       "      <th></th>\n",
       "      <th>Title</th>\n",
       "      <th>title_year</th>\n",
       "      <th>budget</th>\n",
       "      <th>Gross</th>\n",
       "      <th>actor_1_name</th>\n",
       "      <th>actor_2_name</th>\n",
       "      <th>actor_3_name</th>\n",
       "      <th>actor_1_facebook_likes</th>\n",
       "      <th>actor_2_facebook_likes</th>\n",
       "      <th>actor_3_facebook_likes</th>\n",
       "      <th>...</th>\n",
       "      <th>Votes45A</th>\n",
       "      <th>Votes45AM</th>\n",
       "      <th>Votes45AF</th>\n",
       "      <th>Votes1000</th>\n",
       "      <th>VotesUS</th>\n",
       "      <th>VotesnUS</th>\n",
       "      <th>content_rating</th>\n",
       "      <th>Country</th>\n",
       "      <th>profit</th>\n",
       "      <th>Avg_rating</th>\n",
       "    </tr>\n",
       "  </thead>\n",
       "  <tbody>\n",
       "    <tr>\n",
       "      <th>80</th>\n",
       "      <td>Whiplash</td>\n",
       "      <td>2014</td>\n",
       "      <td>3.3</td>\n",
       "      <td>13.092000</td>\n",
       "      <td>J.K. Simmons</td>\n",
       "      <td>Melissa Benoist</td>\n",
       "      <td>Chris Mulkey</td>\n",
       "      <td>24000</td>\n",
       "      <td>970.0</td>\n",
       "      <td>535.0</td>\n",
       "      <td>...</td>\n",
       "      <td>8.1</td>\n",
       "      <td>8.1</td>\n",
       "      <td>8.2</td>\n",
       "      <td>8.0</td>\n",
       "      <td>8.6</td>\n",
       "      <td>8.4</td>\n",
       "      <td>R</td>\n",
       "      <td>USA</td>\n",
       "      <td>9.792000</td>\n",
       "      <td>8.65</td>\n",
       "    </tr>\n",
       "    <tr>\n",
       "      <th>36</th>\n",
       "      <td>Django Unchained</td>\n",
       "      <td>2012</td>\n",
       "      <td>100.0</td>\n",
       "      <td>162.804648</td>\n",
       "      <td>Leonardo DiCaprio</td>\n",
       "      <td>Christoph Waltz</td>\n",
       "      <td>Ato Essandoh</td>\n",
       "      <td>29000</td>\n",
       "      <td>11000.0</td>\n",
       "      <td>265.0</td>\n",
       "      <td>...</td>\n",
       "      <td>8.0</td>\n",
       "      <td>8.0</td>\n",
       "      <td>8.1</td>\n",
       "      <td>7.8</td>\n",
       "      <td>8.4</td>\n",
       "      <td>8.4</td>\n",
       "      <td>R</td>\n",
       "      <td>USA</td>\n",
       "      <td>62.804648</td>\n",
       "      <td>8.25</td>\n",
       "    </tr>\n",
       "    <tr>\n",
       "      <th>68</th>\n",
       "      <td>Dallas Buyers Club</td>\n",
       "      <td>2013</td>\n",
       "      <td>5.0</td>\n",
       "      <td>27.296514</td>\n",
       "      <td>Matthew McConaughey</td>\n",
       "      <td>Jennifer Garner</td>\n",
       "      <td>Denis O'Hare</td>\n",
       "      <td>11000</td>\n",
       "      <td>3000.0</td>\n",
       "      <td>896.0</td>\n",
       "      <td>...</td>\n",
       "      <td>7.8</td>\n",
       "      <td>7.8</td>\n",
       "      <td>8.0</td>\n",
       "      <td>7.2</td>\n",
       "      <td>8.0</td>\n",
       "      <td>7.9</td>\n",
       "      <td>R</td>\n",
       "      <td>USA</td>\n",
       "      <td>22.296514</td>\n",
       "      <td>8.20</td>\n",
       "    </tr>\n",
       "    <tr>\n",
       "      <th>0</th>\n",
       "      <td>Star Wars: Episode VII - The Force Awakens</td>\n",
       "      <td>2015</td>\n",
       "      <td>245.0</td>\n",
       "      <td>936.662225</td>\n",
       "      <td>Doug Walker</td>\n",
       "      <td>Rob Walker</td>\n",
       "      <td>0</td>\n",
       "      <td>131</td>\n",
       "      <td>12.0</td>\n",
       "      <td>0.0</td>\n",
       "      <td>...</td>\n",
       "      <td>7.9</td>\n",
       "      <td>7.8</td>\n",
       "      <td>8.2</td>\n",
       "      <td>7.7</td>\n",
       "      <td>8.2</td>\n",
       "      <td>7.9</td>\n",
       "      <td>PG-13</td>\n",
       "      <td>USA</td>\n",
       "      <td>691.662225</td>\n",
       "      <td>8.10</td>\n",
       "    </tr>\n",
       "    <tr>\n",
       "      <th>40</th>\n",
       "      <td>Arrival</td>\n",
       "      <td>2016</td>\n",
       "      <td>47.0</td>\n",
       "      <td>100.546139</td>\n",
       "      <td>Amy Adams</td>\n",
       "      <td>Jeremy Renner</td>\n",
       "      <td>Forest Whitaker</td>\n",
       "      <td>35000</td>\n",
       "      <td>5300.0</td>\n",
       "      <td>NaN</td>\n",
       "      <td>...</td>\n",
       "      <td>7.6</td>\n",
       "      <td>7.6</td>\n",
       "      <td>7.7</td>\n",
       "      <td>7.3</td>\n",
       "      <td>8.0</td>\n",
       "      <td>7.9</td>\n",
       "      <td>PG-13</td>\n",
       "      <td>USA</td>\n",
       "      <td>53.546139</td>\n",
       "      <td>8.05</td>\n",
       "    </tr>\n",
       "    <tr>\n",
       "      <th>21</th>\n",
       "      <td>The Martian</td>\n",
       "      <td>2015</td>\n",
       "      <td>108.0</td>\n",
       "      <td>228.430993</td>\n",
       "      <td>Matt Damon</td>\n",
       "      <td>Donald Glover</td>\n",
       "      <td>Benedict Wong</td>\n",
       "      <td>13000</td>\n",
       "      <td>801.0</td>\n",
       "      <td>372.0</td>\n",
       "      <td>...</td>\n",
       "      <td>8.0</td>\n",
       "      <td>7.9</td>\n",
       "      <td>8.2</td>\n",
       "      <td>7.8</td>\n",
       "      <td>8.1</td>\n",
       "      <td>7.9</td>\n",
       "      <td>PG-13</td>\n",
       "      <td>USA</td>\n",
       "      <td>120.430993</td>\n",
       "      <td>8.00</td>\n",
       "    </tr>\n",
       "    <tr>\n",
       "      <th>24</th>\n",
       "      <td>Gone Girl</td>\n",
       "      <td>2014</td>\n",
       "      <td>61.0</td>\n",
       "      <td>167.735396</td>\n",
       "      <td>Patrick Fugit</td>\n",
       "      <td>Sela Ward</td>\n",
       "      <td>Emily Ratajkowski</td>\n",
       "      <td>835</td>\n",
       "      <td>812.0</td>\n",
       "      <td>625.0</td>\n",
       "      <td>...</td>\n",
       "      <td>7.7</td>\n",
       "      <td>7.7</td>\n",
       "      <td>7.7</td>\n",
       "      <td>7.6</td>\n",
       "      <td>8.1</td>\n",
       "      <td>8.1</td>\n",
       "      <td>R</td>\n",
       "      <td>USA</td>\n",
       "      <td>106.735396</td>\n",
       "      <td>8.00</td>\n",
       "    </tr>\n",
       "  </tbody>\n",
       "</table>\n",
       "<p>7 rows × 64 columns</p>\n",
       "</div>"
      ],
      "text/plain": [
       "                                         Title  title_year  budget  \\\n",
       "80                                    Whiplash        2014     3.3   \n",
       "36                            Django Unchained        2012   100.0   \n",
       "68                          Dallas Buyers Club        2013     5.0   \n",
       "0   Star Wars: Episode VII - The Force Awakens        2015   245.0   \n",
       "40                                     Arrival        2016    47.0   \n",
       "21                                 The Martian        2015   108.0   \n",
       "24                                   Gone Girl        2014    61.0   \n",
       "\n",
       "         Gross         actor_1_name     actor_2_name       actor_3_name  \\\n",
       "80   13.092000         J.K. Simmons  Melissa Benoist       Chris Mulkey   \n",
       "36  162.804648    Leonardo DiCaprio  Christoph Waltz       Ato Essandoh   \n",
       "68   27.296514  Matthew McConaughey  Jennifer Garner       Denis O'Hare   \n",
       "0   936.662225          Doug Walker       Rob Walker                  0   \n",
       "40  100.546139            Amy Adams    Jeremy Renner    Forest Whitaker   \n",
       "21  228.430993           Matt Damon    Donald Glover      Benedict Wong   \n",
       "24  167.735396        Patrick Fugit        Sela Ward  Emily Ratajkowski   \n",
       "\n",
       "    actor_1_facebook_likes  actor_2_facebook_likes  actor_3_facebook_likes  \\\n",
       "80                   24000                   970.0                   535.0   \n",
       "36                   29000                 11000.0                   265.0   \n",
       "68                   11000                  3000.0                   896.0   \n",
       "0                      131                    12.0                     0.0   \n",
       "40                   35000                  5300.0                     NaN   \n",
       "21                   13000                   801.0                   372.0   \n",
       "24                     835                   812.0                   625.0   \n",
       "\n",
       "    ...  Votes45A Votes45AM Votes45AF Votes1000  VotesUS  VotesnUS  \\\n",
       "80  ...       8.1       8.1       8.2       8.0      8.6       8.4   \n",
       "36  ...       8.0       8.0       8.1       7.8      8.4       8.4   \n",
       "68  ...       7.8       7.8       8.0       7.2      8.0       7.9   \n",
       "0   ...       7.9       7.8       8.2       7.7      8.2       7.9   \n",
       "40  ...       7.6       7.6       7.7       7.3      8.0       7.9   \n",
       "21  ...       8.0       7.9       8.2       7.8      8.1       7.9   \n",
       "24  ...       7.7       7.7       7.7       7.6      8.1       8.1   \n",
       "\n",
       "    content_rating  Country      profit  Avg_rating  \n",
       "80               R      USA    9.792000        8.65  \n",
       "36               R      USA   62.804648        8.25  \n",
       "68               R      USA   22.296514        8.20  \n",
       "0            PG-13      USA  691.662225        8.10  \n",
       "40           PG-13      USA   53.546139        8.05  \n",
       "21           PG-13      USA  120.430993        8.00  \n",
       "24               R      USA  106.735396        8.00  \n",
       "\n",
       "[7 rows x 64 columns]"
      ]
     },
     "execution_count": 27,
     "metadata": {},
     "output_type": "execute_result"
    }
   ],
   "source": [
    "UniversalAcclaim"
   ]
  },
  {
   "cell_type": "markdown",
   "id": "least-flavor",
   "metadata": {
    "papermill": {
     "duration": 0.072172,
     "end_time": "2021-06-14T20:49:16.655096",
     "exception": false,
     "start_time": "2021-06-14T20:49:16.582924",
     "status": "completed"
    },
    "tags": []
   },
   "source": [
    "- ### Subtask 2.4: Find the Most Popular Trios - I\n",
    "\n",
    "If we are a producer looking to make a blockbuster movie, there will primarily be three lead roles in the movie and we wish to cast the most popular actors for it. Now, since we don't want to take a risk, you will cast a trio which has already acted in together in a movie before. The metric that we've chosen to check the popularity is the Facebook likes of each of these actors.\n",
    "\n",
    "Our objective is to find the trios which has the most number of Facebook likes combined. That is, the sum of `actor_1_facebook_likes`, `actor_2_facebook_likes` and `actor_3_facebook_likes` should be maximum.\n",
    "We find out the top 5 popular trios, and output their names in a list.\n"
   ]
  },
  {
   "cell_type": "code",
   "execution_count": 28,
   "id": "least-guard",
   "metadata": {
    "execution": {
     "iopub.execute_input": "2021-06-14T20:49:16.815616Z",
     "iopub.status.busy": "2021-06-14T20:49:16.814456Z",
     "iopub.status.idle": "2021-06-14T20:49:16.830437Z",
     "shell.execute_reply": "2021-06-14T20:49:16.831004Z",
     "shell.execute_reply.started": "2021-06-12T04:57:14.20476Z"
    },
    "papermill": {
     "duration": 0.101737,
     "end_time": "2021-06-14T20:49:16.831254",
     "exception": false,
     "start_time": "2021-06-14T20:49:16.729517",
     "status": "completed"
    },
    "tags": []
   },
   "outputs": [],
   "source": [
    "# Grouping the actors based on their name and getting sum of their facebook likes. Once we sum up the values, we will\n",
    "# get the total facebook likes of each trio of actors into a new dataframe \"fb_actors_likes\"\n",
    "fb_actors_likes = pd.pivot_table(data = movies, index = [\"actor_1_name\",\"actor_2_name\",\"actor_3_name\"], values = [\"actor_1_facebook_likes\",\"actor_2_facebook_likes\",\"actor_3_facebook_likes\"], aggfunc = np.sum).sum(axis = 1)"
   ]
  },
  {
   "cell_type": "code",
   "execution_count": 29,
   "id": "behavioral-neighbor",
   "metadata": {
    "execution": {
     "iopub.execute_input": "2021-06-14T20:49:16.981419Z",
     "iopub.status.busy": "2021-06-14T20:49:16.980747Z",
     "iopub.status.idle": "2021-06-14T20:49:16.988868Z",
     "shell.execute_reply": "2021-06-14T20:49:16.989401Z",
     "shell.execute_reply.started": "2021-06-12T04:57:14.607677Z"
    },
    "papermill": {
     "duration": 0.084355,
     "end_time": "2021-06-14T20:49:16.989623",
     "exception": false,
     "start_time": "2021-06-14T20:49:16.905268",
     "status": "completed"
    },
    "tags": []
   },
   "outputs": [
    {
     "data": {
      "text/plain": [
       "actor_1_name       actor_2_name        actor_3_name        \n",
       "Dev Patel          Nicole Kidman       Rooney Mara             138800.0\n",
       "Leonardo DiCaprio  Tom Hardy           Joseph Gordon-Levitt     79000.0\n",
       "Jennifer Lawrence  Peter Dinklage      Hugh Jackman             76000.0\n",
       "Casey Affleck      Michelle Williams   Kyle Chandler            74818.0\n",
       "Tom Hardy          Christian Bale      Joseph Gordon-Levitt     73000.0\n",
       "dtype: float64"
      ]
     },
     "execution_count": 29,
     "metadata": {},
     "output_type": "execute_result"
    }
   ],
   "source": [
    "# Getting the 5 most popular trio of actors\n",
    "fb_actors_likes.sort_values(ascending = False).head(5)"
   ]
  },
  {
   "cell_type": "code",
   "execution_count": 30,
   "id": "sought-aurora",
   "metadata": {
    "execution": {
     "iopub.execute_input": "2021-06-14T20:49:17.152342Z",
     "iopub.status.busy": "2021-06-14T20:49:17.151673Z",
     "iopub.status.idle": "2021-06-14T20:49:17.154537Z",
     "shell.execute_reply": "2021-06-14T20:49:17.155225Z",
     "shell.execute_reply.started": "2021-06-12T04:57:18.614954Z"
    },
    "papermill": {
     "duration": 0.091593,
     "end_time": "2021-06-14T20:49:17.155411",
     "exception": false,
     "start_time": "2021-06-14T20:49:17.063818",
     "status": "completed"
    },
    "tags": []
   },
   "outputs": [
    {
     "data": {
      "text/plain": [
       "[('Dev Patel', 'Nicole Kidman', 'Rooney Mara'),\n",
       " ('Leonardo DiCaprio', 'Tom Hardy', 'Joseph Gordon-Levitt'),\n",
       " ('Jennifer Lawrence', 'Peter Dinklage', 'Hugh Jackman'),\n",
       " ('Casey Affleck', 'Michelle Williams ', 'Kyle Chandler'),\n",
       " ('Tom Hardy', 'Christian Bale', 'Joseph Gordon-Levitt')]"
      ]
     },
     "execution_count": 30,
     "metadata": {},
     "output_type": "execute_result"
    }
   ],
   "source": [
    "# Getting the 5 most popular trio of actors into a list\n",
    "popular_trios_5 = fb_actors_likes.sort_values(ascending = False).head(5).index.to_list()\n",
    "popular_trios_5"
   ]
  },
  {
   "cell_type": "markdown",
   "id": "separate-associate",
   "metadata": {
    "papermill": {
     "duration": 0.072647,
     "end_time": "2021-06-14T20:49:17.301065",
     "exception": false,
     "start_time": "2021-06-14T20:49:17.228418",
     "status": "completed"
    },
    "tags": []
   },
   "source": [
    "- ### Subtask 2.5: Find the Most Popular Trios - II\n",
    "\n",
    "In the previous subtask we found the popular trio based on the total number of facebook likes. Let's add a small condition to it and make sure that all three actors are popular. The condition is **none of the three actors' Facebook likes should be less than half of the other two**. For example, the following is a valid combo:\n",
    "- actor_1_facebook_likes: 70000\n",
    "- actor_2_facebook_likes: 40000\n",
    "- actor_3_facebook_likes: 50000\n",
    "\n",
    "But the below one is not:\n",
    "- actor_1_facebook_likes: 70000\n",
    "- actor_2_facebook_likes: 40000\n",
    "- actor_3_facebook_likes: 30000\n",
    "\n",
    "since in this case, `actor_3_facebook_likes` is 30000, which is less than half of `actor_1_facebook_likes`.\n",
    "\n",
    "Having this condition ensures that we aren't getting any unpopular actor in your trio (since the total likes calculated in the previous question doesn't tell anything about the individual popularities of each actor in the trio.).\n",
    "\n",
    "We can do a manual inspection of the top 5 popular trios you have found in the previous subtask and check how many of those trios satisfy this condition. Also, which is the most popular trio after applying the condition above?"
   ]
  },
  {
   "cell_type": "markdown",
   "id": "adjustable-laser",
   "metadata": {
    "papermill": {
     "duration": 0.071845,
     "end_time": "2021-06-14T20:49:17.445199",
     "exception": false,
     "start_time": "2021-06-14T20:49:17.373354",
     "status": "completed"
    },
    "tags": []
   },
   "source": [
    "### **Write your answers below.**\n",
    "\n",
    "- **`No. of trios that satisfy the above condition:`** 3\n",
    "\n",
    "- **`Most popular trio after applying the condition:`** 'Leonardo DiCaprio', 'Tom Hardy', 'Joseph Gordon-Levitt'"
   ]
  },
  {
   "cell_type": "code",
   "execution_count": 31,
   "id": "conservative-builder",
   "metadata": {
    "execution": {
     "iopub.execute_input": "2021-06-14T20:49:17.592155Z",
     "iopub.status.busy": "2021-06-14T20:49:17.591492Z",
     "iopub.status.idle": "2021-06-14T20:49:17.607955Z",
     "shell.execute_reply": "2021-06-14T20:49:17.608416Z",
     "shell.execute_reply.started": "2021-06-12T04:58:08.308396Z"
    },
    "papermill": {
     "duration": 0.091808,
     "end_time": "2021-06-14T20:49:17.608619",
     "exception": false,
     "start_time": "2021-06-14T20:49:17.516811",
     "status": "completed"
    },
    "tags": []
   },
   "outputs": [],
   "source": [
    "# Creating a new dataframe that holds the trio of actors along with their facebook likes\n",
    "fb_actors_likes_ind = pd.pivot_table(data = movies, index = [\"actor_1_name\",\"actor_2_name\",\"actor_3_name\"], values = [\"actor_1_facebook_likes\",\"actor_2_facebook_likes\",\"actor_3_facebook_likes\"], aggfunc = np.sum)"
   ]
  },
  {
   "cell_type": "code",
   "execution_count": 32,
   "id": "alone-honey",
   "metadata": {
    "execution": {
     "iopub.execute_input": "2021-06-14T20:49:17.756394Z",
     "iopub.status.busy": "2021-06-14T20:49:17.755753Z",
     "iopub.status.idle": "2021-06-14T20:49:17.824796Z",
     "shell.execute_reply": "2021-06-14T20:49:17.824207Z",
     "shell.execute_reply.started": "2021-06-12T04:58:11.356949Z"
    },
    "papermill": {
     "duration": 0.144801,
     "end_time": "2021-06-14T20:49:17.824939",
     "exception": false,
     "start_time": "2021-06-14T20:49:17.680138",
     "status": "completed"
    },
    "tags": []
   },
   "outputs": [],
   "source": [
    "# Iterating over each row and figure out the actors with facebook likes less than half of the other two\n",
    "for lab,row in fb_actors_likes_ind.iterrows():\n",
    "    if (row[\"actor_1_facebook_likes\"]< row[\"actor_2_facebook_likes\"]/2) | (row[\"actor_1_facebook_likes\"]< row[\"actor_3_facebook_likes\"]/2):\n",
    "        fb_actors_likes_ind.loc[lab, \"valid_like\"] = \"no\"\n",
    "    elif (row[\"actor_2_facebook_likes\"]< row[\"actor_1_facebook_likes\"]/2) | (row[\"actor_2_facebook_likes\"]< row[\"actor_3_facebook_likes\"]/2):\n",
    "        fb_actors_likes_ind.loc[lab, \"valid_like\"] = \"no\"\n",
    "    elif (row[\"actor_3_facebook_likes\"]< row[\"actor_1_facebook_likes\"]/2) | (row[\"actor_3_facebook_likes\"]< row[\"actor_2_facebook_likes\"]/2):\n",
    "        fb_actors_likes_ind.loc[lab, \"valid_like\"] = \"no\"\n",
    "    else:\n",
    "        fb_actors_likes_ind.loc[lab, \"valid_like\"] = \"yes\""
   ]
  },
  {
   "cell_type": "code",
   "execution_count": 33,
   "id": "ranging-apache",
   "metadata": {
    "execution": {
     "iopub.execute_input": "2021-06-14T20:49:17.977027Z",
     "iopub.status.busy": "2021-06-14T20:49:17.975961Z",
     "iopub.status.idle": "2021-06-14T20:49:17.979336Z",
     "shell.execute_reply": "2021-06-14T20:49:17.978712Z",
     "shell.execute_reply.started": "2021-06-12T04:58:13.259814Z"
    },
    "papermill": {
     "duration": 0.082089,
     "end_time": "2021-06-14T20:49:17.979481",
     "exception": false,
     "start_time": "2021-06-14T20:49:17.897392",
     "status": "completed"
    },
    "tags": []
   },
   "outputs": [],
   "source": [
    "# Creating \"total_likes\" column to add the likes of all three actors\n",
    "fb_actors_likes_ind[\"total_likes\"] = fb_actors_likes_ind[\"actor_1_facebook_likes\"] + fb_actors_likes_ind[\"actor_2_facebook_likes\"] + fb_actors_likes_ind[\"actor_3_facebook_likes\"]"
   ]
  },
  {
   "cell_type": "code",
   "execution_count": 34,
   "id": "permanent-silicon",
   "metadata": {
    "execution": {
     "iopub.execute_input": "2021-06-14T20:49:18.137541Z",
     "iopub.status.busy": "2021-06-14T20:49:18.136548Z",
     "iopub.status.idle": "2021-06-14T20:49:18.141252Z",
     "shell.execute_reply": "2021-06-14T20:49:18.140671Z",
     "shell.execute_reply.started": "2021-06-12T04:58:13.862124Z"
    },
    "papermill": {
     "duration": 0.089786,
     "end_time": "2021-06-14T20:49:18.141409",
     "exception": false,
     "start_time": "2021-06-14T20:49:18.051623",
     "status": "completed"
    },
    "tags": []
   },
   "outputs": [
    {
     "data": {
      "text/plain": [
       "[('Leonardo DiCaprio', 'Tom Hardy', 'Joseph Gordon-Levitt'),\n",
       " ('Jennifer Lawrence', 'Peter Dinklage', 'Hugh Jackman'),\n",
       " ('Tom Hardy', 'Christian Bale', 'Joseph Gordon-Levitt'),\n",
       " ('Chris Hemsworth', 'Robert Downey Jr.', 'Scarlett Johansson'),\n",
       " ('Robert Downey Jr.', 'Scarlett Johansson', 'Chris Evans')]"
      ]
     },
     "execution_count": 34,
     "metadata": {},
     "output_type": "execute_result"
    }
   ],
   "source": [
    "pop_trio_5pop = fb_actors_likes_ind.loc[fb_actors_likes_ind[\"valid_like\"] != \"no\", :].sort_values(by = \"total_likes\", ascending = False).head(5).index.tolist()\n",
    "pop_trio_5pop"
   ]
  },
  {
   "cell_type": "markdown",
   "id": "offensive-strap",
   "metadata": {
    "papermill": {
     "duration": 0.073789,
     "end_time": "2021-06-14T20:49:18.291997",
     "exception": false,
     "start_time": "2021-06-14T20:49:18.218208",
     "status": "completed"
    },
    "tags": []
   },
   "source": [
    "- ### Subtask 2.6: Runtime Analysis\n",
    "\n",
    "There is a column named `Runtime` in the dataframe which primarily shows the length of the movie. It might be interesting to see how this variable this distributed. We plot a `histogram` or `distplot` of seaborn to find the `Runtime` range most of the movies fall into."
   ]
  },
  {
   "cell_type": "code",
   "execution_count": 35,
   "id": "korean-negative",
   "metadata": {
    "execution": {
     "iopub.execute_input": "2021-06-14T20:49:18.443781Z",
     "iopub.status.busy": "2021-06-14T20:49:18.443077Z",
     "iopub.status.idle": "2021-06-14T20:49:18.605633Z",
     "shell.execute_reply": "2021-06-14T20:49:18.604949Z",
     "shell.execute_reply.started": "2021-06-12T04:58:30.966501Z"
    },
    "papermill": {
     "duration": 0.239473,
     "end_time": "2021-06-14T20:49:18.605797",
     "exception": false,
     "start_time": "2021-06-14T20:49:18.366324",
     "status": "completed"
    },
    "tags": []
   },
   "outputs": [
    {
     "data": {
      "image/png": "[encoded data removed]",
      "text/plain": [
       "<Figure size 720x360 with 1 Axes>"
      ]
     },
     "metadata": {
      "needs_background": "light"
     },
     "output_type": "display_data"
    }
   ],
   "source": [
    "# Runtime histogram/density plot\n",
    "movies.Runtime.plot(kind = \"hist\", title = \"Runtime distribution\", color = \"green\", alpha = 0.5, figsize = (10,5))\n",
    "plt.show()"
   ]
  },
  {
   "cell_type": "markdown",
   "id": "bound-movie",
   "metadata": {
    "papermill": {
     "duration": 0.073486,
     "end_time": "2021-06-14T20:49:18.755923",
     "exception": false,
     "start_time": "2021-06-14T20:49:18.682437",
     "status": "completed"
    },
    "tags": []
   },
   "source": [
    "Most of the movies appear to be sharply 2 hour-long."
   ]
  },
  {
   "cell_type": "markdown",
   "id": "aggressive-norwegian",
   "metadata": {
    "papermill": {
     "duration": 0.07413,
     "end_time": "2021-06-14T20:49:18.906634",
     "exception": false,
     "start_time": "2021-06-14T20:49:18.832504",
     "status": "completed"
    },
    "tags": []
   },
   "source": [
    "- ### Subtask 2.7: R-Rated Movies\n",
    "\n",
    "Although R rated movies are restricted movies for the under 18 age group, still there are vote counts from that age group. Among all the R rated movies that have been voted by the under-18 age group, find the top 10 movies that have the highest number of votes i.e.`CVotesU18` from the `movies` dataframe. We store these in a dataframe named `PopularR`."
   ]
  },
  {
   "cell_type": "code",
   "execution_count": 36,
   "id": "grave-excess",
   "metadata": {
    "execution": {
     "iopub.execute_input": "2021-06-14T20:49:19.063604Z",
     "iopub.status.busy": "2021-06-14T20:49:19.062764Z",
     "iopub.status.idle": "2021-06-14T20:49:19.066492Z",
     "shell.execute_reply": "2021-06-14T20:49:19.065880Z",
     "shell.execute_reply.started": "2021-06-12T04:59:08.103275Z"
    },
    "papermill": {
     "duration": 0.085833,
     "end_time": "2021-06-14T20:49:19.066711",
     "exception": false,
     "start_time": "2021-06-14T20:49:18.980878",
     "status": "completed"
    },
    "scrolled": true,
    "tags": []
   },
   "outputs": [],
   "source": [
    "# Write your code here\n",
    "PopularR = movies[ movies[\"content_rating\"] == \"R\" ].sort_values(by = \"CVotesU18\", ascending = False).head(10)"
   ]
  },
  {
   "cell_type": "code",
   "execution_count": 37,
   "id": "handed-audio",
   "metadata": {
    "execution": {
     "iopub.execute_input": "2021-06-14T20:49:19.268748Z",
     "iopub.status.busy": "2021-06-14T20:49:19.261693Z",
     "iopub.status.idle": "2021-06-14T20:49:19.273840Z",
     "shell.execute_reply": "2021-06-14T20:49:19.274412Z",
     "shell.execute_reply.started": "2021-06-12T04:59:08.603411Z"
    },
    "papermill": {
     "duration": 0.13256,
     "end_time": "2021-06-14T20:49:19.274632",
     "exception": false,
     "start_time": "2021-06-14T20:49:19.142072",
     "status": "completed"
    },
    "tags": []
   },
   "outputs": [
    {
     "data": {
      "text/html": [
       "<div>\n",
       "<style scoped>\n",
       "    .dataframe tbody tr th:only-of-type {\n",
       "        vertical-align: middle;\n",
       "    }\n",
       "\n",
       "    .dataframe tbody tr th {\n",
       "        vertical-align: top;\n",
       "    }\n",
       "\n",
       "    .dataframe thead th {\n",
       "        text-align: right;\n",
       "    }\n",
       "</style>\n",
       "<table border=\"1\" class=\"dataframe\">\n",
       "  <thead>\n",
       "    <tr style=\"text-align: right;\">\n",
       "      <th></th>\n",
       "      <th>Title</th>\n",
       "      <th>title_year</th>\n",
       "      <th>budget</th>\n",
       "      <th>Gross</th>\n",
       "      <th>actor_1_name</th>\n",
       "      <th>actor_2_name</th>\n",
       "      <th>actor_3_name</th>\n",
       "      <th>actor_1_facebook_likes</th>\n",
       "      <th>actor_2_facebook_likes</th>\n",
       "      <th>actor_3_facebook_likes</th>\n",
       "      <th>...</th>\n",
       "      <th>Votes45A</th>\n",
       "      <th>Votes45AM</th>\n",
       "      <th>Votes45AF</th>\n",
       "      <th>Votes1000</th>\n",
       "      <th>VotesUS</th>\n",
       "      <th>VotesnUS</th>\n",
       "      <th>content_rating</th>\n",
       "      <th>Country</th>\n",
       "      <th>profit</th>\n",
       "      <th>Avg_rating</th>\n",
       "    </tr>\n",
       "  </thead>\n",
       "  <tbody>\n",
       "    <tr>\n",
       "      <th>0</th>\n",
       "      <td>Deadpool</td>\n",
       "      <td>2016</td>\n",
       "      <td>58.0</td>\n",
       "      <td>363.024263</td>\n",
       "      <td>Ryan Reynolds</td>\n",
       "      <td>Ed Skrein</td>\n",
       "      <td>Stefan Kapicic</td>\n",
       "      <td>16000</td>\n",
       "      <td>805.0</td>\n",
       "      <td>361.0</td>\n",
       "      <td>...</td>\n",
       "      <td>7.8</td>\n",
       "      <td>7.8</td>\n",
       "      <td>7.9</td>\n",
       "      <td>7.3</td>\n",
       "      <td>8.1</td>\n",
       "      <td>7.9</td>\n",
       "      <td>R</td>\n",
       "      <td>USA</td>\n",
       "      <td>305.024263</td>\n",
       "      <td>7.25</td>\n",
       "    </tr>\n",
       "    <tr>\n",
       "      <th>1</th>\n",
       "      <td>The Wolf of Wall Street</td>\n",
       "      <td>2013</td>\n",
       "      <td>100.0</td>\n",
       "      <td>116.866727</td>\n",
       "      <td>Leonardo DiCaprio</td>\n",
       "      <td>Matthew McConaughey</td>\n",
       "      <td>Jon Favreau</td>\n",
       "      <td>29000</td>\n",
       "      <td>11000.0</td>\n",
       "      <td>4000.0</td>\n",
       "      <td>...</td>\n",
       "      <td>7.6</td>\n",
       "      <td>7.6</td>\n",
       "      <td>7.5</td>\n",
       "      <td>7.8</td>\n",
       "      <td>8.1</td>\n",
       "      <td>8.1</td>\n",
       "      <td>R</td>\n",
       "      <td>USA</td>\n",
       "      <td>16.866727</td>\n",
       "      <td>7.85</td>\n",
       "    </tr>\n",
       "    <tr>\n",
       "      <th>2</th>\n",
       "      <td>Django Unchained</td>\n",
       "      <td>2012</td>\n",
       "      <td>100.0</td>\n",
       "      <td>162.804648</td>\n",
       "      <td>Leonardo DiCaprio</td>\n",
       "      <td>Christoph Waltz</td>\n",
       "      <td>Ato Essandoh</td>\n",
       "      <td>29000</td>\n",
       "      <td>11000.0</td>\n",
       "      <td>265.0</td>\n",
       "      <td>...</td>\n",
       "      <td>8.0</td>\n",
       "      <td>8.0</td>\n",
       "      <td>8.1</td>\n",
       "      <td>7.8</td>\n",
       "      <td>8.4</td>\n",
       "      <td>8.4</td>\n",
       "      <td>R</td>\n",
       "      <td>USA</td>\n",
       "      <td>62.804648</td>\n",
       "      <td>8.25</td>\n",
       "    </tr>\n",
       "    <tr>\n",
       "      <th>3</th>\n",
       "      <td>Mad Max: Fury Road</td>\n",
       "      <td>2015</td>\n",
       "      <td>150.0</td>\n",
       "      <td>153.629485</td>\n",
       "      <td>Tom Hardy</td>\n",
       "      <td>Charlize Theron</td>\n",
       "      <td>ZoÃ« Kravitz</td>\n",
       "      <td>27000</td>\n",
       "      <td>9000.0</td>\n",
       "      <td>943.0</td>\n",
       "      <td>...</td>\n",
       "      <td>7.5</td>\n",
       "      <td>7.5</td>\n",
       "      <td>7.2</td>\n",
       "      <td>8.0</td>\n",
       "      <td>8.2</td>\n",
       "      <td>8.0</td>\n",
       "      <td>R</td>\n",
       "      <td>Australia</td>\n",
       "      <td>3.629485</td>\n",
       "      <td>8.55</td>\n",
       "    </tr>\n",
       "    <tr>\n",
       "      <th>4</th>\n",
       "      <td>Whiplash</td>\n",
       "      <td>2014</td>\n",
       "      <td>3.3</td>\n",
       "      <td>13.092000</td>\n",
       "      <td>J.K. Simmons</td>\n",
       "      <td>Melissa Benoist</td>\n",
       "      <td>Chris Mulkey</td>\n",
       "      <td>24000</td>\n",
       "      <td>970.0</td>\n",
       "      <td>535.0</td>\n",
       "      <td>...</td>\n",
       "      <td>8.1</td>\n",
       "      <td>8.1</td>\n",
       "      <td>8.2</td>\n",
       "      <td>8.0</td>\n",
       "      <td>8.6</td>\n",
       "      <td>8.4</td>\n",
       "      <td>R</td>\n",
       "      <td>USA</td>\n",
       "      <td>9.792000</td>\n",
       "      <td>8.65</td>\n",
       "    </tr>\n",
       "    <tr>\n",
       "      <th>5</th>\n",
       "      <td>The Revenant</td>\n",
       "      <td>2015</td>\n",
       "      <td>135.0</td>\n",
       "      <td>183.635922</td>\n",
       "      <td>Leonardo DiCaprio</td>\n",
       "      <td>Tom Hardy</td>\n",
       "      <td>Lukas Haas</td>\n",
       "      <td>29000</td>\n",
       "      <td>27000.0</td>\n",
       "      <td>733.0</td>\n",
       "      <td>...</td>\n",
       "      <td>7.8</td>\n",
       "      <td>7.8</td>\n",
       "      <td>7.8</td>\n",
       "      <td>7.6</td>\n",
       "      <td>8.1</td>\n",
       "      <td>7.9</td>\n",
       "      <td>R</td>\n",
       "      <td>USA</td>\n",
       "      <td>48.635922</td>\n",
       "      <td>7.80</td>\n",
       "    </tr>\n",
       "    <tr>\n",
       "      <th>6</th>\n",
       "      <td>Shutter Island</td>\n",
       "      <td>2010</td>\n",
       "      <td>80.0</td>\n",
       "      <td>127.968405</td>\n",
       "      <td>Leonardo DiCaprio</td>\n",
       "      <td>Joseph Sikora</td>\n",
       "      <td>Nellie Sciutto</td>\n",
       "      <td>29000</td>\n",
       "      <td>223.0</td>\n",
       "      <td>163.0</td>\n",
       "      <td>...</td>\n",
       "      <td>7.5</td>\n",
       "      <td>7.4</td>\n",
       "      <td>7.6</td>\n",
       "      <td>7.6</td>\n",
       "      <td>7.8</td>\n",
       "      <td>8.1</td>\n",
       "      <td>R</td>\n",
       "      <td>USA</td>\n",
       "      <td>47.968405</td>\n",
       "      <td>7.20</td>\n",
       "    </tr>\n",
       "    <tr>\n",
       "      <th>7</th>\n",
       "      <td>Gone Girl</td>\n",
       "      <td>2014</td>\n",
       "      <td>61.0</td>\n",
       "      <td>167.735396</td>\n",
       "      <td>Patrick Fugit</td>\n",
       "      <td>Sela Ward</td>\n",
       "      <td>Emily Ratajkowski</td>\n",
       "      <td>835</td>\n",
       "      <td>812.0</td>\n",
       "      <td>625.0</td>\n",
       "      <td>...</td>\n",
       "      <td>7.7</td>\n",
       "      <td>7.7</td>\n",
       "      <td>7.7</td>\n",
       "      <td>7.6</td>\n",
       "      <td>8.1</td>\n",
       "      <td>8.1</td>\n",
       "      <td>R</td>\n",
       "      <td>USA</td>\n",
       "      <td>106.735396</td>\n",
       "      <td>8.00</td>\n",
       "    </tr>\n",
       "    <tr>\n",
       "      <th>8</th>\n",
       "      <td>The Grand Budapest Hotel</td>\n",
       "      <td>2014</td>\n",
       "      <td>25.0</td>\n",
       "      <td>59.073773</td>\n",
       "      <td>Bill Murray</td>\n",
       "      <td>Tom Wilkinson</td>\n",
       "      <td>F. Murray Abraham</td>\n",
       "      <td>13000</td>\n",
       "      <td>1000.0</td>\n",
       "      <td>670.0</td>\n",
       "      <td>...</td>\n",
       "      <td>7.8</td>\n",
       "      <td>7.8</td>\n",
       "      <td>7.9</td>\n",
       "      <td>7.7</td>\n",
       "      <td>8.1</td>\n",
       "      <td>8.0</td>\n",
       "      <td>R</td>\n",
       "      <td>USA</td>\n",
       "      <td>34.073773</td>\n",
       "      <td>8.45</td>\n",
       "    </tr>\n",
       "    <tr>\n",
       "      <th>9</th>\n",
       "      <td>Birdman or (The Unexpected Virtue of Ignorance)</td>\n",
       "      <td>2014</td>\n",
       "      <td>18.0</td>\n",
       "      <td>42.335698</td>\n",
       "      <td>Emma Stone</td>\n",
       "      <td>Naomi Watts</td>\n",
       "      <td>Merritt Wever</td>\n",
       "      <td>15000</td>\n",
       "      <td>6000.0</td>\n",
       "      <td>529.0</td>\n",
       "      <td>...</td>\n",
       "      <td>7.2</td>\n",
       "      <td>7.3</td>\n",
       "      <td>7.0</td>\n",
       "      <td>7.1</td>\n",
       "      <td>7.9</td>\n",
       "      <td>7.7</td>\n",
       "      <td>R</td>\n",
       "      <td>USA</td>\n",
       "      <td>24.335698</td>\n",
       "      <td>8.30</td>\n",
       "    </tr>\n",
       "  </tbody>\n",
       "</table>\n",
       "<p>10 rows × 64 columns</p>\n",
       "</div>"
      ],
      "text/plain": [
       "                                             Title  title_year  budget  \\\n",
       "0                                         Deadpool        2016    58.0   \n",
       "1                          The Wolf of Wall Street        2013   100.0   \n",
       "2                                 Django Unchained        2012   100.0   \n",
       "3                               Mad Max: Fury Road        2015   150.0   \n",
       "4                                         Whiplash        2014     3.3   \n",
       "5                                     The Revenant        2015   135.0   \n",
       "6                                   Shutter Island        2010    80.0   \n",
       "7                                        Gone Girl        2014    61.0   \n",
       "8                         The Grand Budapest Hotel        2014    25.0   \n",
       "9  Birdman or (The Unexpected Virtue of Ignorance)        2014    18.0   \n",
       "\n",
       "        Gross       actor_1_name         actor_2_name       actor_3_name  \\\n",
       "0  363.024263      Ryan Reynolds            Ed Skrein     Stefan Kapicic   \n",
       "1  116.866727  Leonardo DiCaprio  Matthew McConaughey        Jon Favreau   \n",
       "2  162.804648  Leonardo DiCaprio      Christoph Waltz       Ato Essandoh   \n",
       "3  153.629485          Tom Hardy      Charlize Theron       ZoÃ« Kravitz   \n",
       "4   13.092000       J.K. Simmons      Melissa Benoist       Chris Mulkey   \n",
       "5  183.635922  Leonardo DiCaprio            Tom Hardy         Lukas Haas   \n",
       "6  127.968405  Leonardo DiCaprio        Joseph Sikora     Nellie Sciutto   \n",
       "7  167.735396      Patrick Fugit            Sela Ward  Emily Ratajkowski   \n",
       "8   59.073773        Bill Murray        Tom Wilkinson  F. Murray Abraham   \n",
       "9   42.335698         Emma Stone          Naomi Watts      Merritt Wever   \n",
       "\n",
       "   actor_1_facebook_likes  actor_2_facebook_likes  actor_3_facebook_likes  \\\n",
       "0                   16000                   805.0                   361.0   \n",
       "1                   29000                 11000.0                  4000.0   \n",
       "2                   29000                 11000.0                   265.0   \n",
       "3                   27000                  9000.0                   943.0   \n",
       "4                   24000                   970.0                   535.0   \n",
       "5                   29000                 27000.0                   733.0   \n",
       "6                   29000                   223.0                   163.0   \n",
       "7                     835                   812.0                   625.0   \n",
       "8                   13000                  1000.0                   670.0   \n",
       "9                   15000                  6000.0                   529.0   \n",
       "\n",
       "   ...  Votes45A Votes45AM Votes45AF Votes1000  VotesUS  VotesnUS  \\\n",
       "0  ...       7.8       7.8       7.9       7.3      8.1       7.9   \n",
       "1  ...       7.6       7.6       7.5       7.8      8.1       8.1   \n",
       "2  ...       8.0       8.0       8.1       7.8      8.4       8.4   \n",
       "3  ...       7.5       7.5       7.2       8.0      8.2       8.0   \n",
       "4  ...       8.1       8.1       8.2       8.0      8.6       8.4   \n",
       "5  ...       7.8       7.8       7.8       7.6      8.1       7.9   \n",
       "6  ...       7.5       7.4       7.6       7.6      7.8       8.1   \n",
       "7  ...       7.7       7.7       7.7       7.6      8.1       8.1   \n",
       "8  ...       7.8       7.8       7.9       7.7      8.1       8.0   \n",
       "9  ...       7.2       7.3       7.0       7.1      7.9       7.7   \n",
       "\n",
       "   content_rating    Country      profit  Avg_rating  \n",
       "0               R        USA  305.024263        7.25  \n",
       "1               R        USA   16.866727        7.85  \n",
       "2               R        USA   62.804648        8.25  \n",
       "3               R  Australia    3.629485        8.55  \n",
       "4               R        USA    9.792000        8.65  \n",
       "5               R        USA   48.635922        7.80  \n",
       "6               R        USA   47.968405        7.20  \n",
       "7               R        USA  106.735396        8.00  \n",
       "8               R        USA   34.073773        8.45  \n",
       "9               R        USA   24.335698        8.30  \n",
       "\n",
       "[10 rows x 64 columns]"
      ]
     },
     "execution_count": 37,
     "metadata": {},
     "output_type": "execute_result"
    }
   ],
   "source": [
    "PopularR.reset_index(drop = True)"
   ]
  },
  {
   "cell_type": "markdown",
   "id": "furnished-detroit",
   "metadata": {
    "papermill": {
     "duration": 0.078221,
     "end_time": "2021-06-14T20:49:19.445488",
     "exception": false,
     "start_time": "2021-06-14T20:49:19.367267",
     "status": "completed"
    },
    "tags": []
   },
   "source": [
    "These kids are watching `Deadpool` a lot."
   ]
  },
  {
   "cell_type": "markdown",
   "id": "worldwide-defensive",
   "metadata": {
    "papermill": {
     "duration": 0.080361,
     "end_time": "2021-06-14T20:49:19.603599",
     "exception": false,
     "start_time": "2021-06-14T20:49:19.523238",
     "status": "completed"
    },
    "tags": []
   },
   "source": [
    "## Task 3 : Demographic analysis\n",
    "\n",
    "If we take a look at the last columns in the dataframe, most of these are related to demographics of the voters (in the last subtask, i.e., 2.8, you made use one of these columns - CVotesU18). We also have three genre columns indicating the genres of a particular movie. We will extensively use these columns for the third and the final stage of our assignment wherein we will analyse the voters across all demographics and also see how these vary across various genres. So without further ado, let's get started with `demographic analysis`."
   ]
  },
  {
   "cell_type": "markdown",
   "id": "everyday-mining",
   "metadata": {
    "papermill": {
     "duration": 0.075011,
     "end_time": "2021-06-14T20:49:19.757712",
     "exception": false,
     "start_time": "2021-06-14T20:49:19.682701",
     "status": "completed"
    },
    "tags": []
   },
   "source": [
    "-  ###  Subtask 3.1 Combine the Dataframe by Genres\n",
    "\n",
    "There are 3 columns in the dataframe - `genre_1`, `genre_2`, and `genre_3`. As a part of this subtask, we need to aggregate a few values over these 3 columns. \n",
    "1. First,we create a new dataframe `df_by_genre` that contains `genre_1`, `genre_2`, and `genre_3` and all the columns related to **CVotes/Votes** from the `movies` data frame. There are 47 columns to be extracted in total.\n",
    "2. Now, Add a column called `cnt` to the dataframe `df_by_genre` and initialize it to one.\n",
    "3. First group the dataframe `df_by_genre` by `genre_1` and find the sum of all the numeric columns such as `cnt`, columns related to CVotes and Votes columns and store it in a dataframe `df_by_g1`.\n",
    "4. Perform the same operation for `genre_2` and `genre_3` and store it dataframes `df_by_g2` and `df_by_g3` respectively. \n",
    "5. Now that you have 3 dataframes performed by grouping over `genre_1`, `genre_2`, and `genre_3` separately, it's time to combine them. For this, add the three dataframes and store it in a new dataframe `df_add`, so that the corresponding values of Votes/CVotes get added for each genre.\n",
    "6. The column `cnt` on aggregation has basically kept the track of the number of occurences of each genre.Subset the genres that have atleast 10 movies into a new dataframe `genre_top10` based on the `cnt` column value.\n",
    "7. Now, take the mean of all the numeric columns by dividing them with the column value `cnt` and store it back to the same dataframe. We will be using this dataframe for further analysis in this task unless it is explicitly mentioned to use the dataframe `movies`.\n",
    "8. Since the number of votes can't be a fraction, type cast all the CVotes related columns to integers. Also, round off all the Votes related columns upto two digits after the decimal point.\n"
   ]
  },
  {
   "cell_type": "code",
   "execution_count": 38,
   "id": "dental-guide",
   "metadata": {
    "execution": {
     "iopub.execute_input": "2021-06-14T20:49:19.916306Z",
     "iopub.status.busy": "2021-06-14T20:49:19.915241Z",
     "iopub.status.idle": "2021-06-14T20:49:19.926476Z",
     "shell.execute_reply": "2021-06-14T20:49:19.927156Z",
     "shell.execute_reply.started": "2021-06-12T05:00:44.612191Z"
    },
    "papermill": {
     "duration": 0.092983,
     "end_time": "2021-06-14T20:49:19.927372",
     "exception": false,
     "start_time": "2021-06-14T20:49:19.834389",
     "status": "completed"
    },
    "tags": []
   },
   "outputs": [
    {
     "data": {
      "text/plain": [
       "(100, 49)"
      ]
     },
     "execution_count": 38,
     "metadata": {},
     "output_type": "execute_result"
    }
   ],
   "source": [
    "# Create the dataframe df_by_genre\n",
    "# First create a new dataframe df_by_genre that contains genre_1, genre_2, and genre_3 and all the columns related to CVotes/Votes \n",
    "# from the movies data frame. There are 47 columns to be extracted in total\n",
    "df_by_genre = movies.loc[:, \"genre_1\":\"VotesnUS\"]\n",
    "df_by_genre.shape"
   ]
  },
  {
   "cell_type": "code",
   "execution_count": 39,
   "id": "judicial-michael",
   "metadata": {
    "execution": {
     "iopub.execute_input": "2021-06-14T20:49:20.083795Z",
     "iopub.status.busy": "2021-06-14T20:49:20.082773Z",
     "iopub.status.idle": "2021-06-14T20:49:20.090410Z",
     "shell.execute_reply": "2021-06-14T20:49:20.089626Z",
     "shell.execute_reply.started": "2021-06-12T05:00:45.059191Z"
    },
    "papermill": {
     "duration": 0.08739,
     "end_time": "2021-06-14T20:49:20.090630",
     "exception": false,
     "start_time": "2021-06-14T20:49:20.003240",
     "status": "completed"
    },
    "tags": []
   },
   "outputs": [],
   "source": [
    "# Drop unnecessary columns \"MetaCritic\" and \"Runtime\"\n",
    "df_by_genre.drop(columns = [\"MetaCritic\",\"Runtime\"], inplace = True)"
   ]
  },
  {
   "cell_type": "code",
   "execution_count": 40,
   "id": "united-commons",
   "metadata": {
    "execution": {
     "iopub.execute_input": "2021-06-14T20:49:20.246029Z",
     "iopub.status.busy": "2021-06-14T20:49:20.245366Z",
     "iopub.status.idle": "2021-06-14T20:49:20.250003Z",
     "shell.execute_reply": "2021-06-14T20:49:20.249486Z",
     "shell.execute_reply.started": "2021-06-12T05:00:45.540811Z"
    },
    "papermill": {
     "duration": 0.084779,
     "end_time": "2021-06-14T20:49:20.250141",
     "exception": false,
     "start_time": "2021-06-14T20:49:20.165362",
     "status": "completed"
    },
    "tags": []
   },
   "outputs": [
    {
     "data": {
      "text/plain": [
       "(100, 47)"
      ]
     },
     "execution_count": 40,
     "metadata": {},
     "output_type": "execute_result"
    }
   ],
   "source": [
    "# Checking the shape to check if we have the required 47 columns\n",
    "df_by_genre.shape"
   ]
  },
  {
   "cell_type": "code",
   "execution_count": 41,
   "id": "matched-pakistan",
   "metadata": {
    "execution": {
     "iopub.execute_input": "2021-06-14T20:49:20.405753Z",
     "iopub.status.busy": "2021-06-14T20:49:20.405046Z",
     "iopub.status.idle": "2021-06-14T20:49:20.408347Z",
     "shell.execute_reply": "2021-06-14T20:49:20.407681Z",
     "shell.execute_reply.started": "2021-06-12T05:00:47.952426Z"
    },
    "papermill": {
     "duration": 0.08371,
     "end_time": "2021-06-14T20:49:20.408504",
     "exception": false,
     "start_time": "2021-06-14T20:49:20.324794",
     "status": "completed"
    },
    "tags": []
   },
   "outputs": [],
   "source": [
    "# Create a column cnt and initialize it to 1\n",
    "df_by_genre[\"cnt\"] = 1"
   ]
  },
  {
   "cell_type": "code",
   "execution_count": 42,
   "id": "human-portland",
   "metadata": {
    "execution": {
     "iopub.execute_input": "2021-06-14T20:49:20.566932Z",
     "iopub.status.busy": "2021-06-14T20:49:20.566186Z",
     "iopub.status.idle": "2021-06-14T20:49:20.569857Z",
     "shell.execute_reply": "2021-06-14T20:49:20.570321Z",
     "shell.execute_reply.started": "2021-06-12T05:00:48.363248Z"
    },
    "papermill": {
     "duration": 0.086244,
     "end_time": "2021-06-14T20:49:20.570543",
     "exception": false,
     "start_time": "2021-06-14T20:49:20.484299",
     "status": "completed"
    },
    "tags": []
   },
   "outputs": [
    {
     "data": {
      "text/plain": [
       "1    100\n",
       "Name: cnt, dtype: int64"
      ]
     },
     "execution_count": 42,
     "metadata": {},
     "output_type": "execute_result"
    }
   ],
   "source": [
    "# Checking data of 'cnt' column\n",
    "df_by_genre.cnt.value_counts()"
   ]
  },
  {
   "cell_type": "code",
   "execution_count": 43,
   "id": "rural-married",
   "metadata": {
    "execution": {
     "iopub.execute_input": "2021-06-14T20:49:20.732136Z",
     "iopub.status.busy": "2021-06-14T20:49:20.731377Z",
     "iopub.status.idle": "2021-06-14T20:49:20.741675Z",
     "shell.execute_reply": "2021-06-14T20:49:20.741072Z",
     "shell.execute_reply.started": "2021-06-12T05:00:50.335931Z"
    },
    "papermill": {
     "duration": 0.094677,
     "end_time": "2021-06-14T20:49:20.741843",
     "exception": false,
     "start_time": "2021-06-14T20:49:20.647166",
     "status": "completed"
    },
    "tags": []
   },
   "outputs": [],
   "source": [
    "# Group the movies by individual genres\n",
    "# First group the dataframe `df_by_genre` by `genre_1` and find the sum of all the numeric columns such as `cnt`, \n",
    "# columns related to CVotes and Votes columns and store it in a dataframe `df_by_g1`\n",
    "# Perform the same operation for genre_2 and genre_3 and store it dataframes df_by_g2 and df_by_g3 respectively\n",
    "\n",
    "df_by_g1 = df_by_genre.groupby(by = \"genre_1\").agg(np.sum)\n",
    "df_by_g2 = df_by_genre.groupby(by = \"genre_2\").agg(np.sum)\n",
    "df_by_g3 = df_by_genre.groupby(by = \"genre_3\").agg(np.sum)"
   ]
  },
  {
   "cell_type": "code",
   "execution_count": 44,
   "id": "southern-house",
   "metadata": {
    "execution": {
     "iopub.execute_input": "2021-06-14T20:49:20.896653Z",
     "iopub.status.busy": "2021-06-14T20:49:20.895966Z",
     "iopub.status.idle": "2021-06-14T20:49:20.903220Z",
     "shell.execute_reply": "2021-06-14T20:49:20.903762Z",
     "shell.execute_reply.started": "2021-06-12T05:00:50.48914Z"
    },
    "papermill": {
     "duration": 0.086081,
     "end_time": "2021-06-14T20:49:20.903988",
     "exception": false,
     "start_time": "2021-06-14T20:49:20.817907",
     "status": "completed"
    },
    "tags": []
   },
   "outputs": [
    {
     "name": "stdout",
     "output_type": "stream",
     "text": [
      "genre_1 <bound method Index.unique of Index(['Action', 'Adventure', 'Animation', 'Biography', 'Comedy', 'Crime',\n",
      "       'Drama', 'Mystery'],\n",
      "      dtype='object', name='genre_1')>\n",
      "genre_2 <bound method Index.unique of Index(['Action', 'Adventure', 'Biography', 'Comedy', 'Crime', 'Drama',\n",
      "       'Family', 'Fantasy', 'History', 'Horror', 'Music', 'Musical', 'Mystery',\n",
      "       'Romance', 'Sci-Fi', 'Sport', 'Thriller', 'War', 'Western'],\n",
      "      dtype='object', name='genre_2')>\n",
      "genre_3 <bound method Index.unique of Index(['Adventure', 'Comedy', 'Crime', 'Drama', 'Family', 'Fantasy', 'History',\n",
      "       'Music', 'Mystery', 'Romance', 'Sci-Fi', 'Sport', 'Thriller', 'War',\n",
      "       'Western'],\n",
      "      dtype='object', name='genre_3')>\n"
     ]
    }
   ],
   "source": [
    "# All three genres have similar names and can be grouped together\n",
    "print(\"genre_1\", df_by_g1.index.unique)\n",
    "print(\"genre_2\", df_by_g2.index.unique)\n",
    "print(\"genre_3\", df_by_g3.index.unique)"
   ]
  },
  {
   "cell_type": "code",
   "execution_count": 45,
   "id": "german-decrease",
   "metadata": {
    "execution": {
     "iopub.execute_input": "2021-06-14T20:49:21.069799Z",
     "iopub.status.busy": "2021-06-14T20:49:21.069059Z",
     "iopub.status.idle": "2021-06-14T20:49:21.071802Z",
     "shell.execute_reply": "2021-06-14T20:49:21.072263Z",
     "shell.execute_reply.started": "2021-06-12T05:00:52.348033Z"
    },
    "papermill": {
     "duration": 0.09229,
     "end_time": "2021-06-14T20:49:21.072467",
     "exception": false,
     "start_time": "2021-06-14T20:49:20.980177",
     "status": "completed"
    },
    "tags": []
   },
   "outputs": [],
   "source": [
    "# Add the grouped data frames and store it in a new data frame\n",
    "# Now that you have 3 dataframes performed by grouping over genre_1, genre_2, and genre_3 separately, it's time to combine them.\n",
    "# For this, add the three dataframes and store it in a new dataframe df_add, so that the corresponding values of Votes/CVotes get added for each genre.\n",
    "# There is a function called add() in pandas which lets you do this. You can refer to this link to see how this function works. \n",
    "# https://pandas.pydata.org/pandas-docs/version/0.23.4/generated/pandas.DataFrame.add.html\n",
    "\n",
    "df_add = df_by_g1.add(df_by_g2, fill_value = 0).add(df_by_g3, fill_value = 0)"
   ]
  },
  {
   "cell_type": "code",
   "execution_count": 46,
   "id": "alone-edwards",
   "metadata": {
    "execution": {
     "iopub.execute_input": "2021-06-14T20:49:21.235920Z",
     "iopub.status.busy": "2021-06-14T20:49:21.234777Z",
     "iopub.status.idle": "2021-06-14T20:49:21.239601Z",
     "shell.execute_reply": "2021-06-14T20:49:21.238946Z",
     "shell.execute_reply.started": "2021-06-12T05:00:52.848155Z"
    },
    "papermill": {
     "duration": 0.08933,
     "end_time": "2021-06-14T20:49:21.239761",
     "exception": false,
     "start_time": "2021-06-14T20:49:21.150431",
     "status": "completed"
    },
    "tags": []
   },
   "outputs": [
    {
     "data": {
      "text/plain": [
       "(20, 45)"
      ]
     },
     "execution_count": 46,
     "metadata": {},
     "output_type": "execute_result"
    }
   ],
   "source": [
    "df_add.shape"
   ]
  },
  {
   "cell_type": "code",
   "execution_count": 47,
   "id": "figured-anime",
   "metadata": {
    "execution": {
     "iopub.execute_input": "2021-06-14T20:49:21.399033Z",
     "iopub.status.busy": "2021-06-14T20:49:21.398273Z",
     "iopub.status.idle": "2021-06-14T20:49:21.405066Z",
     "shell.execute_reply": "2021-06-14T20:49:21.404382Z",
     "shell.execute_reply.started": "2021-06-12T05:00:54.942769Z"
    },
    "papermill": {
     "duration": 0.086732,
     "end_time": "2021-06-14T20:49:21.405247",
     "exception": false,
     "start_time": "2021-06-14T20:49:21.318515",
     "status": "completed"
    },
    "tags": []
   },
   "outputs": [],
   "source": [
    "# Extract genres with atleast 10 occurences\n",
    "# The column cnt on aggregation has basically kept the track of the number of occurences of each genre.\n",
    "# Subset the genres that have atleast 10 movies into a new dataframe genre_top10 based on the cnt column value\n",
    "genre_top10 = df_add[df_add[\"cnt\"] >= 10]"
   ]
  },
  {
   "cell_type": "code",
   "execution_count": 48,
   "id": "beneficial-confidentiality",
   "metadata": {
    "execution": {
     "iopub.execute_input": "2021-06-14T20:49:21.567204Z",
     "iopub.status.busy": "2021-06-14T20:49:21.566413Z",
     "iopub.status.idle": "2021-06-14T20:49:21.590334Z",
     "shell.execute_reply": "2021-06-14T20:49:21.590903Z",
     "shell.execute_reply.started": "2021-06-12T05:00:55.438429Z"
    },
    "papermill": {
     "duration": 0.107677,
     "end_time": "2021-06-14T20:49:21.591121",
     "exception": false,
     "start_time": "2021-06-14T20:49:21.483444",
     "status": "completed"
    },
    "scrolled": true,
    "tags": []
   },
   "outputs": [],
   "source": [
    "# Take the mean for every column by dividing with cnt \n",
    "# Now, take the mean of all the numeric columns by dividing them with column value cnt and store it back to the same dataframe.\n",
    "# We will be using this dataframe for further analysis in this task unless it is explicitly mentioned to use the dataframe movies\n",
    "for each_col in genre_top10.columns[:-1]:\n",
    "    genre_top10[each_col] /= genre_top10[\"cnt\"].copy()"
   ]
  },
  {
   "cell_type": "markdown",
   "id": "overall-vietnamese",
   "metadata": {
    "papermill": {
     "duration": 0.078972,
     "end_time": "2021-06-14T20:49:21.751669",
     "exception": false,
     "start_time": "2021-06-14T20:49:21.672697",
     "status": "completed"
    },
    "tags": []
   },
   "source": [
    "Since the number of votes can't be a fraction, type cast all the CVotes related columns to integers. Also, round off all the Votes related columns upto two digits after the decimal point"
   ]
  },
  {
   "cell_type": "code",
   "execution_count": 49,
   "id": "integrated-reliance",
   "metadata": {
    "execution": {
     "iopub.execute_input": "2021-06-14T20:49:21.911199Z",
     "iopub.status.busy": "2021-06-14T20:49:21.910435Z",
     "iopub.status.idle": "2021-06-14T20:49:21.920146Z",
     "shell.execute_reply": "2021-06-14T20:49:21.920714Z",
     "shell.execute_reply.started": "2021-06-12T05:00:57.745307Z"
    },
    "papermill": {
     "duration": 0.090816,
     "end_time": "2021-06-14T20:49:21.920932",
     "exception": false,
     "start_time": "2021-06-14T20:49:21.830116",
     "status": "completed"
    },
    "tags": []
   },
   "outputs": [],
   "source": [
    "# Rounding off the columns of Votes to two decimals\n",
    "genre_top10.loc[:,\"VotesM\":\"VotesnUS\"] = genre_top10.loc[:,\"VotesM\":\"VotesnUS\"].apply(lambda x: round(x,2))"
   ]
  },
  {
   "cell_type": "code",
   "execution_count": 50,
   "id": "efficient-section",
   "metadata": {
    "execution": {
     "iopub.execute_input": "2021-06-14T20:49:22.080072Z",
     "iopub.status.busy": "2021-06-14T20:49:22.079401Z",
     "iopub.status.idle": "2021-06-14T20:49:22.092633Z",
     "shell.execute_reply": "2021-06-14T20:49:22.093210Z",
     "shell.execute_reply.started": "2021-06-12T05:00:59.838306Z"
    },
    "papermill": {
     "duration": 0.095565,
     "end_time": "2021-06-14T20:49:22.093433",
     "exception": false,
     "start_time": "2021-06-14T20:49:21.997868",
     "status": "completed"
    },
    "tags": []
   },
   "outputs": [],
   "source": [
    "# Convert all CVotes columns to int\n",
    "list_cvotes = genre_top10.loc[:,\"CVotes10\":\"CVotesnUS\"].columns\n",
    "genre_top10[list_cvotes] = genre_top10[list_cvotes].astype(int)"
   ]
  },
  {
   "cell_type": "code",
   "execution_count": 51,
   "id": "powerful-initial",
   "metadata": {
    "execution": {
     "iopub.execute_input": "2021-06-14T20:49:22.254300Z",
     "iopub.status.busy": "2021-06-14T20:49:22.253616Z",
     "iopub.status.idle": "2021-06-14T20:49:22.279295Z",
     "shell.execute_reply": "2021-06-14T20:49:22.279936Z",
     "shell.execute_reply.started": "2021-06-12T05:01:00.015057Z"
    },
    "papermill": {
     "duration": 0.108081,
     "end_time": "2021-06-14T20:49:22.280142",
     "exception": false,
     "start_time": "2021-06-14T20:49:22.172061",
     "status": "completed"
    },
    "tags": []
   },
   "outputs": [
    {
     "data": {
      "text/html": [
       "<div>\n",
       "<style scoped>\n",
       "    .dataframe tbody tr th:only-of-type {\n",
       "        vertical-align: middle;\n",
       "    }\n",
       "\n",
       "    .dataframe tbody tr th {\n",
       "        vertical-align: top;\n",
       "    }\n",
       "\n",
       "    .dataframe thead th {\n",
       "        text-align: right;\n",
       "    }\n",
       "</style>\n",
       "<table border=\"1\" class=\"dataframe\">\n",
       "  <thead>\n",
       "    <tr style=\"text-align: right;\">\n",
       "      <th></th>\n",
       "      <th>CVotes10</th>\n",
       "      <th>CVotes09</th>\n",
       "      <th>CVotes08</th>\n",
       "      <th>CVotes07</th>\n",
       "      <th>CVotes06</th>\n",
       "      <th>CVotes05</th>\n",
       "      <th>CVotes04</th>\n",
       "      <th>CVotes03</th>\n",
       "      <th>CVotes02</th>\n",
       "      <th>CVotes01</th>\n",
       "      <th>...</th>\n",
       "      <th>Votes3044</th>\n",
       "      <th>Votes3044M</th>\n",
       "      <th>Votes3044F</th>\n",
       "      <th>Votes45A</th>\n",
       "      <th>Votes45AM</th>\n",
       "      <th>Votes45AF</th>\n",
       "      <th>Votes1000</th>\n",
       "      <th>VotesUS</th>\n",
       "      <th>VotesnUS</th>\n",
       "      <th>cnt</th>\n",
       "    </tr>\n",
       "  </thead>\n",
       "  <tbody>\n",
       "    <tr>\n",
       "      <th>Action</th>\n",
       "      <td>102144</td>\n",
       "      <td>114433</td>\n",
       "      <td>150895</td>\n",
       "      <td>94262</td>\n",
       "      <td>34688</td>\n",
       "      <td>12693</td>\n",
       "      <td>5386</td>\n",
       "      <td>3064</td>\n",
       "      <td>2115</td>\n",
       "      <td>5524</td>\n",
       "      <td>...</td>\n",
       "      <td>7.74</td>\n",
       "      <td>7.73</td>\n",
       "      <td>7.80</td>\n",
       "      <td>7.65</td>\n",
       "      <td>7.63</td>\n",
       "      <td>7.75</td>\n",
       "      <td>7.30</td>\n",
       "      <td>7.99</td>\n",
       "      <td>7.76</td>\n",
       "      <td>31.0</td>\n",
       "    </tr>\n",
       "    <tr>\n",
       "      <th>Adventure</th>\n",
       "      <td>94596</td>\n",
       "      <td>105636</td>\n",
       "      <td>138482</td>\n",
       "      <td>86367</td>\n",
       "      <td>31896</td>\n",
       "      <td>11551</td>\n",
       "      <td>4817</td>\n",
       "      <td>2718</td>\n",
       "      <td>1835</td>\n",
       "      <td>4575</td>\n",
       "      <td>...</td>\n",
       "      <td>7.75</td>\n",
       "      <td>7.73</td>\n",
       "      <td>7.87</td>\n",
       "      <td>7.68</td>\n",
       "      <td>7.64</td>\n",
       "      <td>7.84</td>\n",
       "      <td>7.38</td>\n",
       "      <td>7.99</td>\n",
       "      <td>7.79</td>\n",
       "      <td>38.0</td>\n",
       "    </tr>\n",
       "    <tr>\n",
       "      <th>Animation</th>\n",
       "      <td>61960</td>\n",
       "      <td>72566</td>\n",
       "      <td>104837</td>\n",
       "      <td>65707</td>\n",
       "      <td>22825</td>\n",
       "      <td>7551</td>\n",
       "      <td>2792</td>\n",
       "      <td>1430</td>\n",
       "      <td>911</td>\n",
       "      <td>2290</td>\n",
       "      <td>...</td>\n",
       "      <td>7.76</td>\n",
       "      <td>7.72</td>\n",
       "      <td>7.98</td>\n",
       "      <td>7.68</td>\n",
       "      <td>7.65</td>\n",
       "      <td>7.88</td>\n",
       "      <td>7.27</td>\n",
       "      <td>7.96</td>\n",
       "      <td>7.83</td>\n",
       "      <td>11.0</td>\n",
       "    </tr>\n",
       "    <tr>\n",
       "      <th>Biography</th>\n",
       "      <td>47333</td>\n",
       "      <td>77867</td>\n",
       "      <td>123948</td>\n",
       "      <td>74054</td>\n",
       "      <td>23644</td>\n",
       "      <td>7702</td>\n",
       "      <td>2984</td>\n",
       "      <td>1639</td>\n",
       "      <td>1145</td>\n",
       "      <td>2849</td>\n",
       "      <td>...</td>\n",
       "      <td>7.73</td>\n",
       "      <td>7.72</td>\n",
       "      <td>7.77</td>\n",
       "      <td>7.69</td>\n",
       "      <td>7.66</td>\n",
       "      <td>7.87</td>\n",
       "      <td>7.23</td>\n",
       "      <td>7.93</td>\n",
       "      <td>7.77</td>\n",
       "      <td>18.0</td>\n",
       "    </tr>\n",
       "    <tr>\n",
       "      <th>Comedy</th>\n",
       "      <td>60157</td>\n",
       "      <td>77173</td>\n",
       "      <td>108993</td>\n",
       "      <td>69176</td>\n",
       "      <td>26099</td>\n",
       "      <td>9863</td>\n",
       "      <td>4237</td>\n",
       "      <td>2444</td>\n",
       "      <td>1712</td>\n",
       "      <td>3842</td>\n",
       "      <td>...</td>\n",
       "      <td>7.71</td>\n",
       "      <td>7.71</td>\n",
       "      <td>7.75</td>\n",
       "      <td>7.61</td>\n",
       "      <td>7.60</td>\n",
       "      <td>7.70</td>\n",
       "      <td>7.19</td>\n",
       "      <td>7.94</td>\n",
       "      <td>7.78</td>\n",
       "      <td>23.0</td>\n",
       "    </tr>\n",
       "  </tbody>\n",
       "</table>\n",
       "<p>5 rows × 45 columns</p>\n",
       "</div>"
      ],
      "text/plain": [
       "           CVotes10  CVotes09  CVotes08  CVotes07  CVotes06  CVotes05  \\\n",
       "Action       102144    114433    150895     94262     34688     12693   \n",
       "Adventure     94596    105636    138482     86367     31896     11551   \n",
       "Animation     61960     72566    104837     65707     22825      7551   \n",
       "Biography     47333     77867    123948     74054     23644      7702   \n",
       "Comedy        60157     77173    108993     69176     26099      9863   \n",
       "\n",
       "           CVotes04  CVotes03  CVotes02  CVotes01  ...  Votes3044  Votes3044M  \\\n",
       "Action         5386      3064      2115      5524  ...       7.74        7.73   \n",
       "Adventure      4817      2718      1835      4575  ...       7.75        7.73   \n",
       "Animation      2792      1430       911      2290  ...       7.76        7.72   \n",
       "Biography      2984      1639      1145      2849  ...       7.73        7.72   \n",
       "Comedy         4237      2444      1712      3842  ...       7.71        7.71   \n",
       "\n",
       "           Votes3044F  Votes45A  Votes45AM  Votes45AF  Votes1000  VotesUS  \\\n",
       "Action           7.80      7.65       7.63       7.75       7.30     7.99   \n",
       "Adventure        7.87      7.68       7.64       7.84       7.38     7.99   \n",
       "Animation        7.98      7.68       7.65       7.88       7.27     7.96   \n",
       "Biography        7.77      7.69       7.66       7.87       7.23     7.93   \n",
       "Comedy           7.75      7.61       7.60       7.70       7.19     7.94   \n",
       "\n",
       "           VotesnUS   cnt  \n",
       "Action         7.76  31.0  \n",
       "Adventure      7.79  38.0  \n",
       "Animation      7.83  11.0  \n",
       "Biography      7.77  18.0  \n",
       "Comedy         7.78  23.0  \n",
       "\n",
       "[5 rows x 45 columns]"
      ]
     },
     "execution_count": 51,
     "metadata": {},
     "output_type": "execute_result"
    }
   ],
   "source": [
    "genre_top10.head()"
   ]
  },
  {
   "cell_type": "markdown",
   "id": "unavailable-developer",
   "metadata": {
    "papermill": {
     "duration": 0.077925,
     "end_time": "2021-06-14T20:49:22.435962",
     "exception": false,
     "start_time": "2021-06-14T20:49:22.358037",
     "status": "completed"
    },
    "tags": []
   },
   "source": [
    "If we take a look at the final dataframe that you have gotten, you will see that you now have the complete information about all the demographic (Votes- and CVotes-related) columns across the top 10 genres. We can use this dataset to extract exciting insights about the voters!"
   ]
  },
  {
   "cell_type": "markdown",
   "id": "institutional-victoria",
   "metadata": {
    "papermill": {
     "duration": 0.079366,
     "end_time": "2021-06-14T20:49:22.594382",
     "exception": false,
     "start_time": "2021-06-14T20:49:22.515016",
     "status": "completed"
    },
    "tags": []
   },
   "source": [
    "-  ###  Subtask 3.2: Genre Counts!\n",
    "\n",
    "Now let's derive some insights from this data frame. Make a bar chart plotting different genres vs cnt using seaborn."
   ]
  },
  {
   "cell_type": "code",
   "execution_count": 52,
   "id": "exterior-closing",
   "metadata": {
    "execution": {
     "iopub.execute_input": "2021-06-14T20:49:22.753504Z",
     "iopub.status.busy": "2021-06-14T20:49:22.752807Z",
     "iopub.status.idle": "2021-06-14T20:49:22.951407Z",
     "shell.execute_reply": "2021-06-14T20:49:22.951955Z",
     "shell.execute_reply.started": "2021-06-12T05:01:11.275042Z"
    },
    "papermill": {
     "duration": 0.279469,
     "end_time": "2021-06-14T20:49:22.952143",
     "exception": false,
     "start_time": "2021-06-14T20:49:22.672674",
     "status": "completed"
    },
    "tags": []
   },
   "outputs": [
    {
     "data": {
      "image/png": "[encoded data removed]",
      "text/plain": [
       "<Figure size 432x288 with 1 Axes>"
      ]
     },
     "metadata": {
      "needs_background": "light"
     },
     "output_type": "display_data"
    }
   ],
   "source": [
    "# Countplot for genres\n",
    "sns.barplot(data = genre_top10, x = genre_top10.index, y = \"cnt\")\n",
    "plt.xticks(rotation = 90)\n",
    "plt.show()"
   ]
  },
  {
   "cell_type": "markdown",
   "id": "completed-meditation",
   "metadata": {
    "papermill": {
     "duration": 0.077349,
     "end_time": "2021-06-14T20:49:23.108699",
     "exception": false,
     "start_time": "2021-06-14T20:49:23.031350",
     "status": "completed"
    },
    "tags": []
   },
   "source": [
    "`Drama` is the tallest bar indicating that they are most produced."
   ]
  },
  {
   "cell_type": "markdown",
   "id": "regulated-litigation",
   "metadata": {
    "papermill": {
     "duration": 0.080688,
     "end_time": "2021-06-14T20:49:23.268501",
     "exception": false,
     "start_time": "2021-06-14T20:49:23.187813",
     "status": "completed"
    },
    "tags": []
   },
   "source": [
    "-  ###  Subtask 3.3: Gender and Genre\n",
    "\n",
    "If we have closely looked at the Votes- and CVotes-related columns, you might have noticed the suffixes `F` and `M` indicating Female and Male. Since we have the vote counts for both males and females, across various age groups, let's now see how the popularity of genres vary between the two genders in the dataframe. \n",
    "\n",
    "1. Make the first heatmap to see how the average number of votes of males is varying across the genres. Use seaborn heatmap for this analysis. The X-axis should contain the four age-groups for males, i.e., `CVotesU18M`,`CVotes1829M`, `CVotes3044M`, and `CVotes45AM`. The Y-axis will have the genres and the annotation in the heatmap tell the average number of votes for that age-male group. \n",
    "\n",
    "2. Make the second heatmap to see how the average number of votes of females is varying across the genres. Use seaborn heatmap for this analysis. The X-axis should contain the four age-groups for females, i.e., `CVotesU18F`,`CVotes1829F`, `CVotes3044F`, and `CVotes45AF`. The Y-axis will have the genres and the annotation in the heatmap tell the average number of votes for that age-female group. \n",
    "\n",
    "3. Make sure that we plot these heatmaps side by side using `subplots` so that you can easily compare the two genders and derive insights.\n",
    "\n",
    "4.Repeat subtasks 1 to 3, but now instead of taking the CVotes-related columns, we need to do the same process for the Votes-related columns. These heatmaps will show you how the two genders have rated movies across various genres.\n",
    "\n",
    "-  Note : Use `genre_top10` dataframe for this subtask"
   ]
  },
  {
   "cell_type": "code",
   "execution_count": 53,
   "id": "abandoned-upgrade",
   "metadata": {
    "execution": {
     "iopub.execute_input": "2021-06-14T20:49:23.436024Z",
     "iopub.status.busy": "2021-06-14T20:49:23.434953Z",
     "iopub.status.idle": "2021-06-14T20:49:23.452139Z",
     "shell.execute_reply": "2021-06-14T20:49:23.452675Z",
     "shell.execute_reply.started": "2021-06-12T05:02:36.30509Z"
    },
    "papermill": {
     "duration": 0.105916,
     "end_time": "2021-06-14T20:49:23.452894",
     "exception": false,
     "start_time": "2021-06-14T20:49:23.346978",
     "status": "completed"
    },
    "tags": []
   },
   "outputs": [],
   "source": [
    "# 1st set of heat maps for CVotes-related columns\n",
    "\n",
    "male_cvotes = pd.pivot_table(data=genre_top10, values = [\"CVotesU18M\",\"CVotes1829M\",\"CVotes3044M\",\"CVotes45AM\"], index = genre_top10.index, \n",
    "               aggfunc = np.mean)\n",
    "female_cvotes = pd.pivot_table(data=genre_top10, values = [\"CVotesU18F\",\"CVotes1829F\",\"CVotes3044F\",\"CVotes45AF\"], index = genre_top10.index, \n",
    "               aggfunc = np.mean)"
   ]
  },
  {
   "cell_type": "code",
   "execution_count": 54,
   "id": "consolidated-sight",
   "metadata": {
    "execution": {
     "iopub.execute_input": "2021-06-14T20:49:23.616702Z",
     "iopub.status.busy": "2021-06-14T20:49:23.615613Z",
     "iopub.status.idle": "2021-06-14T20:49:25.021062Z",
     "shell.execute_reply": "2021-06-14T20:49:25.021595Z",
     "shell.execute_reply.started": "2021-06-12T05:02:36.468439Z"
    },
    "papermill": {
     "duration": 1.48797,
     "end_time": "2021-06-14T20:49:25.021788",
     "exception": false,
     "start_time": "2021-06-14T20:49:23.533818",
     "status": "completed"
    },
    "tags": []
   },
   "outputs": [
    {
     "data": {
      "image/png": "[encoded data removed]",
      "text/plain": [
       "<Figure size 1008x432 with 4 Axes>"
      ]
     },
     "metadata": {
      "needs_background": "light"
     },
     "output_type": "display_data"
    }
   ],
   "source": [
    "fig, ax = plt.subplots(nrows=1, ncols=2, figsize = [14,6])\n",
    "\n",
    "sns.heatmap(male_cvotes, cmap = \"RdYlGn\", annot = True, ax = ax[0], fmt = \"d\")\n",
    "sns.heatmap(female_cvotes, cmap = \"RdYlGn\", annot = True, ax = ax[1], fmt = \"d\")\n",
    "plt.tight_layout()\n",
    "\n",
    "plt.show()"
   ]
  },
  {
   "cell_type": "markdown",
   "id": "strategic-surprise",
   "metadata": {
    "papermill": {
     "duration": 0.079461,
     "end_time": "2021-06-14T20:49:25.181648",
     "exception": false,
     "start_time": "2021-06-14T20:49:25.102187",
     "status": "completed"
    },
    "tags": []
   },
   "source": [
    "**`Inferences:`** A few inferences that can be seen from the heatmap above is that males have voted more than females, and Sci-Fi appears to be most popular among the 18-29 age group irrespective of their gender. Additionally,\n",
    "- Inference 1: We can see that all movie genres are least voted by Under 18 male and female group. This could be because there could be parental restrictions on the number aof movies that can be seen by these teenagers. There could also be restriction based on content rating which might affect their voting. We still have to verify this cause with other datasets\n",
    "- Inference 2: `Animation` is the least voted genre by 45 & above female age group whereas it's `Romance` for 45 & above male age group\n",
    "- Inference 3: `Sci-Fi` is the most voted genre by both male and female 30-44 age group"
   ]
  },
  {
   "cell_type": "code",
   "execution_count": 55,
   "id": "light-modern",
   "metadata": {
    "execution": {
     "iopub.execute_input": "2021-06-14T20:49:25.370322Z",
     "iopub.status.busy": "2021-06-14T20:49:25.367618Z",
     "iopub.status.idle": "2021-06-14T20:49:25.374560Z",
     "shell.execute_reply": "2021-06-14T20:49:25.373922Z",
     "shell.execute_reply.started": "2021-06-12T05:03:07.706831Z"
    },
    "papermill": {
     "duration": 0.110411,
     "end_time": "2021-06-14T20:49:25.374744",
     "exception": false,
     "start_time": "2021-06-14T20:49:25.264333",
     "status": "completed"
    },
    "tags": []
   },
   "outputs": [],
   "source": [
    "# 2nd set of heat maps for Votes-related columns\n",
    "\n",
    "male_votes = pd.pivot_table(data=genre_top10, values = [\"VotesU18M\",\"Votes1829M\",\"Votes3044M\",\"Votes45AM\"], index = genre_top10.index, \n",
    "               aggfunc = np.mean)\n",
    "female_votes = pd.pivot_table(data=genre_top10, values = [\"VotesU18F\",\"Votes1829F\",\"Votes3044F\",\"Votes45AF\"], index = genre_top10.index, \n",
    "               aggfunc = np.mean)"
   ]
  },
  {
   "cell_type": "code",
   "execution_count": 56,
   "id": "uniform-surfing",
   "metadata": {
    "execution": {
     "iopub.execute_input": "2021-06-14T20:49:25.617721Z",
     "iopub.status.busy": "2021-06-14T20:49:25.616143Z",
     "iopub.status.idle": "2021-06-14T20:49:26.711901Z",
     "shell.execute_reply": "2021-06-14T20:49:26.711147Z",
     "shell.execute_reply.started": "2021-06-12T05:03:07.833255Z"
    },
    "papermill": {
     "duration": 1.251932,
     "end_time": "2021-06-14T20:49:26.712060",
     "exception": false,
     "start_time": "2021-06-14T20:49:25.460128",
     "status": "completed"
    },
    "tags": []
   },
   "outputs": [
    {
     "data": {
      "image/png": "[encoded data removed]",
      "text/plain": [
       "<Figure size 1008x432 with 4 Axes>"
      ]
     },
     "metadata": {
      "needs_background": "light"
     },
     "output_type": "display_data"
    }
   ],
   "source": [
    "fig, ax = plt.subplots(nrows=1, ncols=2, figsize = [14,6])\n",
    "\n",
    "sns.heatmap(male_votes, cmap = \"RdYlGn\", annot = True, ax = ax[0], fmt = \"n\")\n",
    "sns.heatmap(female_votes, cmap = \"RdYlGn\", annot = True, ax = ax[1], fmt = \"n\")\n",
    "plt.tight_layout()\n",
    "\n",
    "plt.show()"
   ]
  },
  {
   "cell_type": "markdown",
   "id": "complimentary-balloon",
   "metadata": {
    "papermill": {
     "duration": 0.082207,
     "end_time": "2021-06-14T20:49:26.878408",
     "exception": false,
     "start_time": "2021-06-14T20:49:26.796201",
     "status": "completed"
    },
    "tags": []
   },
   "source": [
    "**`Inferences:`** Sci-Fi appears to be the highest rated genre in the age group of U18 for both males and females. Also, females in this age group have rated it a bit higher than the males in the same age group. Additionally,\n",
    "- Inference 1: *`Romance`* is the worst rated genre by both male and female with age 45 & above. In fact, as we can see from the pattern, the Avg rating decreases through age (U18, U1829, U3044, U45A) for both male and female age groups\n",
    "- Inference 2: `Animation` movies are highest rated by 18-29 females while `Sci-Fi` are the highest rated by 18-29 males\n",
    "- Inference 3: `Crime` movies are rated higher by U18 males compared to U18 females"
   ]
  },
  {
   "cell_type": "markdown",
   "id": "lyric-reference",
   "metadata": {
    "papermill": {
     "duration": 0.08278,
     "end_time": "2021-06-14T20:49:27.044037",
     "exception": false,
     "start_time": "2021-06-14T20:49:26.961257",
     "status": "completed"
    },
    "tags": []
   },
   "source": [
    "-  ###  Subtask 3.4: US vs non-US Cross Analysis\n",
    "\n",
    "The dataset contains both the US and non-US movies. Let's analyse how both the US and the non-US voters have responded to the US and the non-US movies.\n",
    "\n",
    "1. Create a column `IFUS` in the dataframe `movies`. The column `IFUS` should contain the value \"USA\" if the `Country` of the movie is \"USA\". For all other countries other than the USA, `IFUS` should contain the value `non-USA`.\n",
    "\n",
    "\n",
    "2. Now make a boxplot that shows how the number of votes from the US people i.e. `CVotesUS` is varying for the US and non-US movies. Make use of the column `IFUS` to make this plot. Similarly, make another subplot that shows how non US voters have voted for the US and non-US movies by plotting `CVotesnUS` for both the US and non-US movies. Write any of your two inferences/observations from these plots.\n",
    "\n",
    "\n",
    "3. Again do a similar analysis but with the ratings. Make a boxplot that shows how the ratings from the US people i.e. `VotesUS` is varying for the US and non-US movies. Similarly, make another subplot that shows how `VotesnUS` is varying for the US and non-US movies. Write any of your two inferences/observations from these plots.\n",
    "\n",
    "Note : Use `movies` dataframe for this subtask."
   ]
  },
  {
   "cell_type": "code",
   "execution_count": 57,
   "id": "empty-fever",
   "metadata": {
    "execution": {
     "iopub.execute_input": "2021-06-14T20:49:27.217439Z",
     "iopub.status.busy": "2021-06-14T20:49:27.216751Z",
     "iopub.status.idle": "2021-06-14T20:49:27.220028Z",
     "shell.execute_reply": "2021-06-14T20:49:27.219367Z",
     "shell.execute_reply.started": "2021-06-12T05:03:45.002507Z"
    },
    "papermill": {
     "duration": 0.092143,
     "end_time": "2021-06-14T20:49:27.220191",
     "exception": false,
     "start_time": "2021-06-14T20:49:27.128048",
     "status": "completed"
    },
    "tags": []
   },
   "outputs": [],
   "source": [
    "# Creating IFUS column\n",
    "movies[\"IFUS\"] = movies.Country.apply(lambda x: \"USA\" if x == \"USA\" else \"non-USA\")"
   ]
  },
  {
   "cell_type": "code",
   "execution_count": 58,
   "id": "renewable-today",
   "metadata": {
    "execution": {
     "iopub.execute_input": "2021-06-14T20:49:27.394239Z",
     "iopub.status.busy": "2021-06-14T20:49:27.393455Z",
     "iopub.status.idle": "2021-06-14T20:49:27.397200Z",
     "shell.execute_reply": "2021-06-14T20:49:27.396622Z",
     "shell.execute_reply.started": "2021-06-12T05:03:45.136192Z"
    },
    "papermill": {
     "duration": 0.092605,
     "end_time": "2021-06-14T20:49:27.397360",
     "exception": false,
     "start_time": "2021-06-14T20:49:27.304755",
     "status": "completed"
    },
    "tags": []
   },
   "outputs": [],
   "source": [
    "# Setting plot style\n",
    "plt.style.use(\"ggplot\")"
   ]
  },
  {
   "cell_type": "code",
   "execution_count": 59,
   "id": "bored-weather",
   "metadata": {
    "execution": {
     "iopub.execute_input": "2021-06-14T20:49:27.627985Z",
     "iopub.status.busy": "2021-06-14T20:49:27.591779Z",
     "iopub.status.idle": "2021-06-14T20:49:27.914592Z",
     "shell.execute_reply": "2021-06-14T20:49:27.913835Z",
     "shell.execute_reply.started": "2021-06-12T05:03:45.338149Z"
    },
    "papermill": {
     "duration": 0.433995,
     "end_time": "2021-06-14T20:49:27.914781",
     "exception": false,
     "start_time": "2021-06-14T20:49:27.480786",
     "status": "completed"
    },
    "tags": []
   },
   "outputs": [
    {
     "data": {
      "image/png": "[encoded data removed]",
      "text/plain": [
       "<Figure size 864x288 with 2 Axes>"
      ]
     },
     "metadata": {},
     "output_type": "display_data"
    }
   ],
   "source": [
    "# Box plot - 1: CVotesUS(y) vs IFUS(x)\n",
    "fix, ax = plt.subplots(nrows = 1, ncols = 2, figsize = (12,4))\n",
    "sns.boxplot(data = movies, x = \"IFUS\", y = \"CVotesUS\", ax = ax[0])\n",
    "sns.boxplot(data = movies, x = \"IFUS\", y = \"CVotesnUS\", ax = ax[1])\n",
    "\n",
    "plt.tight_layout()\n",
    "plt.show()"
   ]
  },
  {
   "cell_type": "markdown",
   "id": "killing-paper",
   "metadata": {
    "papermill": {
     "duration": 0.08493,
     "end_time": "2021-06-14T20:49:28.085685",
     "exception": false,
     "start_time": "2021-06-14T20:49:28.000755",
     "status": "completed"
    },
    "tags": []
   },
   "source": [
    "**`Inferences:`** Write your two inferences/observations below:\n",
    "- Inference 1: People from USA tend to vote more for USA movies than non-USA movies\n",
    "- Inference 2: People from non-USA have more range of votes above 300K for USA movies and there are even some values that might be considered outliers. In contrast, there is no outlier for non-USA movies and upper ceiling of votes is capped around ~300K"
   ]
  },
  {
   "cell_type": "code",
   "execution_count": 60,
   "id": "logical-consequence",
   "metadata": {
    "execution": {
     "iopub.execute_input": "2021-06-14T20:49:28.320185Z",
     "iopub.status.busy": "2021-06-14T20:49:28.293956Z",
     "iopub.status.idle": "2021-06-14T20:49:28.607439Z",
     "shell.execute_reply": "2021-06-14T20:49:28.608041Z",
     "shell.execute_reply.started": "2021-06-12T05:03:51.871898Z"
    },
    "papermill": {
     "duration": 0.439054,
     "end_time": "2021-06-14T20:49:28.608232",
     "exception": false,
     "start_time": "2021-06-14T20:49:28.169178",
     "status": "completed"
    },
    "tags": []
   },
   "outputs": [
    {
     "data": {
      "image/png": "[encoded data removed]",
      "text/plain": [
       "<Figure size 864x288 with 2 Axes>"
      ]
     },
     "metadata": {},
     "output_type": "display_data"
    }
   ],
   "source": [
    "# Box plot - 2: VotesUS(y) vs IFUS(x)\n",
    "fix, ax = plt.subplots(nrows = 1, ncols = 2, figsize = (12,4))\n",
    "sns.boxplot(data = movies, x = \"IFUS\", y = \"VotesUS\", ax = ax[0])\n",
    "sns.boxplot(data = movies, x = \"IFUS\", y = \"VotesnUS\", ax = ax[1])\n",
    "\n",
    "plt.tight_layout()\n",
    "plt.show()"
   ]
  },
  {
   "cell_type": "markdown",
   "id": "emerging-university",
   "metadata": {
    "papermill": {
     "duration": 0.084374,
     "end_time": "2021-06-14T20:49:28.776095",
     "exception": false,
     "start_time": "2021-06-14T20:49:28.691721",
     "status": "completed"
    },
    "tags": []
   },
   "source": [
    "**`Inferences:`**\n",
    "- Inference 1: USA voters have not rated any non-USA movie above 8.2 whereas we have values over that range for USA movies\n",
    "- Inference 2: non-USA voters have not rated a non-USA movie below 7.4 whereas they have rated some USA movies below that value"
   ]
  },
  {
   "cell_type": "markdown",
   "id": "expressed-plant",
   "metadata": {
    "papermill": {
     "duration": 0.083148,
     "end_time": "2021-06-14T20:49:28.943678",
     "exception": false,
     "start_time": "2021-06-14T20:49:28.860530",
     "status": "completed"
    },
    "tags": []
   },
   "source": [
    "-  ###  Subtask 3.5:  Top 1000 Voters Vs Genres\n",
    "\n",
    "We might have also observed the column `CVotes1000`. This column represents the top 1000 voters on IMDb and gives the count for the number of these voters who have voted for a particular movie. Let's see how these top 1000 voters have voted across the genres. \n",
    "\n",
    "1. Sort the dataframe genre_top10 based on the value of `CVotes1000`in a descending order.\n",
    "\n",
    "2. Make a seaborn barplot for `genre` vs `CVotes1000`."
   ]
  },
  {
   "cell_type": "code",
   "execution_count": 61,
   "id": "immune-embassy",
   "metadata": {
    "execution": {
     "iopub.execute_input": "2021-06-14T20:49:29.114917Z",
     "iopub.status.busy": "2021-06-14T20:49:29.114161Z",
     "iopub.status.idle": "2021-06-14T20:49:29.120653Z",
     "shell.execute_reply": "2021-06-14T20:49:29.120087Z",
     "shell.execute_reply.started": "2021-06-12T05:04:20.964479Z"
    },
    "papermill": {
     "duration": 0.093121,
     "end_time": "2021-06-14T20:49:29.120800",
     "exception": false,
     "start_time": "2021-06-14T20:49:29.027679",
     "status": "completed"
    },
    "tags": []
   },
   "outputs": [],
   "source": [
    "# Sorting by CVotes1000\n",
    "genre_top10.sort_values(by = \"CVotes1000\", ascending = False, inplace = True)"
   ]
  },
  {
   "cell_type": "code",
   "execution_count": 62,
   "id": "infinite-paint",
   "metadata": {
    "execution": {
     "iopub.execute_input": "2021-06-14T20:49:29.330411Z",
     "iopub.status.busy": "2021-06-14T20:49:29.325193Z",
     "iopub.status.idle": "2021-06-14T20:49:29.509246Z",
     "shell.execute_reply": "2021-06-14T20:49:29.508496Z",
     "shell.execute_reply.started": "2021-06-12T05:04:21.137261Z"
    },
    "papermill": {
     "duration": 0.303936,
     "end_time": "2021-06-14T20:49:29.509408",
     "exception": false,
     "start_time": "2021-06-14T20:49:29.205472",
     "status": "completed"
    },
    "tags": []
   },
   "outputs": [
    {
     "data": {
      "image/png": "[encoded data removed]",
      "text/plain": [
       "<Figure size 432x288 with 1 Axes>"
      ]
     },
     "metadata": {},
     "output_type": "display_data"
    }
   ],
   "source": [
    "# Bar plot\n",
    "sns.barplot(data = genre_top10, x = genre_top10.index, y = \"CVotes1000\")\n",
    "plt.xticks(rotation = 90)\n",
    "plt.show()"
   ]
  },
  {
   "cell_type": "markdown",
   "id": "neutral-opening",
   "metadata": {
    "papermill": {
     "duration": 0.087264,
     "end_time": "2021-06-14T20:49:29.682996",
     "exception": false,
     "start_time": "2021-06-14T20:49:29.595732",
     "status": "completed"
    },
    "tags": []
   },
   "source": [
    "**`Inferences:\n",
    "- Inference 1: Sci-Fi is the most popular genre voted by Top 1000 IMDb voters\n",
    "- Inference 2: Action is the second most popular genre voted by Top 1000 IMDb voters\n",
    "- Inference 3: The genre `Romance` seems to be most unpopular among the top 1000 voters"
   ]
  }
 ],
 "metadata": {
  "kernelspec": {
   "display_name": "Python 3",
   "language": "python",
   "name": "python3"
  },
  "language_info": {
   "codemirror_mode": {
    "name": "ipython",
    "version": 3
   },
   "file_extension": ".py",
   "mimetype": "text/x-python",
   "name": "python",
   "nbconvert_exporter": "python",
   "pygments_lexer": "ipython3",
   "version": "3.7.10"
  },
  "papermill": {
   "default_parameters": {},
   "duration": 31.193524,
   "end_time": "2021-06-14T20:49:31.227264",
   "environment_variables": {},
   "exception": null,
   "input_path": "__notebook__.ipynb",
   "output_path": "__notebook__.ipynb",
   "parameters": {},
   "start_time": "2021-06-14T20:49:00.033740",
   "version": "2.3.3"
  }
 },
 "nbformat": 4,
 "nbformat_minor": 5
}
